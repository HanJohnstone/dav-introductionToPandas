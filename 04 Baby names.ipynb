{
  "nbformat": 4,
  "nbformat_minor": 0,
  "metadata": {
    "celltoolbar": "Slideshow",
    "kernelspec": {
      "display_name": "Python 3",
      "language": "python",
      "name": "python3"
    },
    "language_info": {
      "codemirror_mode": {
        "name": "ipython",
        "version": 3
      },
      "file_extension": ".py",
      "mimetype": "text/x-python",
      "name": "python",
      "nbconvert_exporter": "python",
      "pygments_lexer": "ipython3",
      "version": "3.6.6"
    },
    "colab": {
      "name": "04 Baby names.ipynb",
      "provenance": []
    }
  },
  "cells": [
    {
      "cell_type": "code",
      "metadata": {
        "id": "WHMFChKaYKk0",
        "colab_type": "code",
        "colab": {}
      },
      "source": [
        "import pandas as pd"
      ],
      "execution_count": 0,
      "outputs": []
    },
    {
      "cell_type": "markdown",
      "metadata": {
        "id": "yMMIOe7uYKk6",
        "colab_type": "text"
      },
      "source": [
        "## Cleaning a messy csv"
      ]
    },
    {
      "cell_type": "code",
      "metadata": {
        "id": "9YqoK-hsYKk7",
        "colab_type": "code",
        "colab": {}
      },
      "source": [
        "#g17 = pd.read_csv('2017girlsnames.csv', thousands=',')\n",
        "g17 = pd.read_csv('https://raw.githubusercontent.com/adaapp/dav-introductionToPandas/master/2017girlsnames.csv', thousands=',')\n",
        "g17 = g17.drop(columns=\"Unnamed: 2\").dropna()\n",
        "g17.Count = g17.Count.astype(int)\n",
        "g17.head()\n"
      ],
      "execution_count": 0,
      "outputs": []
    },
    {
      "cell_type": "markdown",
      "metadata": {
        "id": "e8G9kiDYYKk_",
        "colab_type": "text"
      },
      "source": [
        "## Setting an index and sorting on it"
      ]
    },
    {
      "cell_type": "code",
      "metadata": {
        "id": "LuDfNrSQYKlA",
        "colab_type": "code",
        "colab": {}
      },
      "source": [
        "g17 = g17.set_index(g17.Name).drop(columns=[\"Name\"]).sort_index()\n",
        "g17"
      ],
      "execution_count": 0,
      "outputs": []
    },
    {
      "cell_type": "markdown",
      "metadata": {
        "id": "7rTCLOFCYKlD",
        "colab_type": "text"
      },
      "source": [
        "## Making a new, constant, column"
      ]
    },
    {
      "cell_type": "code",
      "metadata": {
        "id": "3K7obDbpYKlD",
        "colab_type": "code",
        "colab": {}
      },
      "source": [
        "g17[\"Gender\"]=\"Girl\"\n",
        "g17"
      ],
      "execution_count": 0,
      "outputs": []
    },
    {
      "cell_type": "markdown",
      "metadata": {
        "id": "KhCcfXc4YKlI",
        "colab_type": "text"
      },
      "source": [
        "## Deal with the thousands comma"
      ]
    },
    {
      "cell_type": "code",
      "metadata": {
        "id": "BdHQbSrGYKlK",
        "colab_type": "code",
        "colab": {
          "base_uri": "https://localhost:8080/",
          "height": 175
        },
        "outputId": "e763a0df-c9dc-4259-b013-0d5126b765a9"
      },
      "source": [
        "#b17 = pd.read_csv(\"2017boysnames.csv\", thousands=',').drop(columns=[\"Unnamed: 2\"]).dropna()\n",
        "b17 = pd.read_csv(\"https://raw.githubusercontent.com/adaapp/dav-introductionToPandas/master/2017boysnames.csv\", thousands=',').drop(columns=[\"Unnamed: 2\"]).dropna()\n",
        "b17"
      ],
      "execution_count": 1,
      "outputs": [
        {
          "output_type": "error",
          "ename": "NameError",
          "evalue": "ignored",
          "traceback": [
            "\u001b[0;31m---------------------------------------------------------------------------\u001b[0m",
            "\u001b[0;31mNameError\u001b[0m                                 Traceback (most recent call last)",
            "\u001b[0;32m<ipython-input-1-f7de317406f2>\u001b[0m in \u001b[0;36m<module>\u001b[0;34m()\u001b[0m\n\u001b[0;32m----> 1\u001b[0;31m \u001b[0mb17\u001b[0m \u001b[0;34m=\u001b[0m \u001b[0mpd\u001b[0m\u001b[0;34m.\u001b[0m\u001b[0mread_csv\u001b[0m\u001b[0;34m(\u001b[0m\u001b[0;34m\"https://raw.githubusercontent.com/adaapp/dav-introductionToPandas/master/2017boysnames.csv\"\u001b[0m\u001b[0;34m,\u001b[0m \u001b[0mthousands\u001b[0m\u001b[0;34m=\u001b[0m\u001b[0;34m','\u001b[0m\u001b[0;34m)\u001b[0m\u001b[0;34m.\u001b[0m\u001b[0mdrop\u001b[0m\u001b[0;34m(\u001b[0m\u001b[0mcolumns\u001b[0m\u001b[0;34m=\u001b[0m\u001b[0;34m[\u001b[0m\u001b[0;34m\"Unnamed: 2\"\u001b[0m\u001b[0;34m]\u001b[0m\u001b[0;34m)\u001b[0m\u001b[0;34m.\u001b[0m\u001b[0mdropna\u001b[0m\u001b[0;34m(\u001b[0m\u001b[0;34m)\u001b[0m\u001b[0;34m\u001b[0m\u001b[0;34m\u001b[0m\u001b[0m\n\u001b[0m\u001b[1;32m      2\u001b[0m \u001b[0mb17\u001b[0m\u001b[0;34m\u001b[0m\u001b[0;34m\u001b[0m\u001b[0m\n",
            "\u001b[0;31mNameError\u001b[0m: name 'pd' is not defined"
          ]
        }
      ]
    },
    {
      "cell_type": "markdown",
      "metadata": {
        "id": "f4Ati_sUYKlO",
        "colab_type": "text"
      },
      "source": [
        "## Converting a column to integer"
      ]
    },
    {
      "cell_type": "code",
      "metadata": {
        "id": "hBFLosSiYKlP",
        "colab_type": "code",
        "colab": {}
      },
      "source": [
        "b17.Count = b17.Count.astype(int)\n",
        "b17"
      ],
      "execution_count": 0,
      "outputs": []
    },
    {
      "cell_type": "code",
      "metadata": {
        "id": "7Lol62afYKlT",
        "colab_type": "code",
        "colab": {}
      },
      "source": [
        "b17 = b17.set_index(b17.Name).drop(columns=[\"Name\"]).sort_index()\n",
        "b17"
      ],
      "execution_count": 0,
      "outputs": []
    },
    {
      "cell_type": "code",
      "metadata": {
        "id": "HkHadQ9eYKlX",
        "colab_type": "code",
        "colab": {}
      },
      "source": [
        "b17[\"Gender\"] = \"Boy\"\n",
        "b17"
      ],
      "execution_count": 0,
      "outputs": []
    },
    {
      "cell_type": "markdown",
      "metadata": {
        "id": "EPszu7BdYKlc",
        "colab_type": "text"
      },
      "source": [
        "## Combining data frames - concatenation"
      ]
    },
    {
      "cell_type": "code",
      "metadata": {
        "id": "1bKpfxb0YKle",
        "colab_type": "code",
        "colab": {}
      },
      "source": [
        "pd.concat([g17,b17])"
      ],
      "execution_count": 0,
      "outputs": []
    },
    {
      "cell_type": "code",
      "metadata": {
        "id": "ssqg5qK1YKlj",
        "colab_type": "code",
        "colab": {}
      },
      "source": [
        "names17 = pd.concat([g17,b17])"
      ],
      "execution_count": 0,
      "outputs": []
    },
    {
      "cell_type": "code",
      "metadata": {
        "id": "QKc10WGzYKlm",
        "colab_type": "code",
        "colab": {}
      },
      "source": [
        "names17 = names17.sort_index()\n",
        "names17"
      ],
      "execution_count": 0,
      "outputs": []
    },
    {
      "cell_type": "code",
      "metadata": {
        "id": "fzDho9-FYKlp",
        "colab_type": "code",
        "colab": {}
      },
      "source": [
        "#g16 = pd.read_csv(\"2016girlsnames.csv\", thousands=',')\n",
        "g16 = pd.read_csv(\"https://raw.githubusercontent.com/adaapp/dav-introductionToPandas/master/2016girlsnames.csv\", thousands=',')\n",
        "g16.head()"
      ],
      "execution_count": 0,
      "outputs": []
    },
    {
      "cell_type": "code",
      "metadata": {
        "id": "D7HRmEFWYKlt",
        "colab_type": "code",
        "colab": {}
      },
      "source": [
        "\n",
        "g16 = g16.dropna()\n",
        "g16.head()"
      ],
      "execution_count": 0,
      "outputs": []
    },
    {
      "cell_type": "code",
      "metadata": {
        "id": "tKJuiVNOYKlw",
        "colab_type": "code",
        "colab": {}
      },
      "source": [
        "g16.Count = g16.Count.astype(int)\n",
        "g16"
      ],
      "execution_count": 0,
      "outputs": []
    },
    {
      "cell_type": "code",
      "metadata": {
        "scrolled": false,
        "id": "QKXh7DwJYKlz",
        "colab_type": "code",
        "colab": {}
      },
      "source": [
        "g16 = g16.dropna()\n",
        "g16.Count = g16.Count.astype(int)\n",
        "g16"
      ],
      "execution_count": 0,
      "outputs": []
    },
    {
      "cell_type": "code",
      "metadata": {
        "id": "muxFPtmSYKl1",
        "colab_type": "code",
        "colab": {}
      },
      "source": [
        "#g15 = pd.read_csv(\"2015girlsnames.csv\", thousands=',')\n",
        "g15 = pd.read_csv(\"https://raw.githubusercontent.com/adaapp/dav-introductionToPandas/master/2015girlsnames.csv\", thousands=',')\n",
        "g15"
      ],
      "execution_count": 0,
      "outputs": []
    },
    {
      "cell_type": "markdown",
      "metadata": {
        "id": "D62XD6AkYKl5",
        "colab_type": "text"
      },
      "source": [
        "## Drop a single row of data"
      ]
    },
    {
      "cell_type": "code",
      "metadata": {
        "id": "vzmErueZYKl6",
        "colab_type": "code",
        "colab": {}
      },
      "source": [
        "g15.drop(7477)"
      ],
      "execution_count": 0,
      "outputs": []
    },
    {
      "cell_type": "code",
      "metadata": {
        "id": "3eY-VNrpYKl-",
        "colab_type": "code",
        "colab": {}
      },
      "source": [
        "g15 = g15.drop(columns=[\"Unnamed: 2\"])\n",
        "g15 = g15.dropna()\n",
        "g15.Count = g15.Count.astype(int)\n",
        "g15"
      ],
      "execution_count": 0,
      "outputs": []
    },
    {
      "cell_type": "markdown",
      "metadata": {
        "id": "KPJHf1XFYKmG",
        "colab_type": "text"
      },
      "source": [
        "## Join two dataframes on a common column\n",
        "\n",
        "What is the difference between an *inner* join and an *outer* join?"
      ]
    },
    {
      "cell_type": "code",
      "metadata": {
        "id": "9R5YlcZfYKmH",
        "colab_type": "code",
        "colab": {}
      },
      "source": [
        "pd.merge(g15,g16,how='inner',on='Name',suffixes=[\"15\",\"16\"])"
      ],
      "execution_count": 0,
      "outputs": []
    },
    {
      "cell_type": "code",
      "metadata": {
        "id": "ErwGjsIRYKmO",
        "colab_type": "code",
        "colab": {}
      },
      "source": [
        "pd.merge(g15,g16,how='outer',on='Name',suffixes=[\"15\",\"16\"])"
      ],
      "execution_count": 0,
      "outputs": []
    },
    {
      "cell_type": "code",
      "metadata": {
        "id": "fMndcwfxYKmV",
        "colab_type": "code",
        "colab": {}
      },
      "source": [
        "girls1516 = pd.merge(g15,g16,how='inner',on='Name',suffixes=[\"15\",\"16\"])\n",
        "girls1516"
      ],
      "execution_count": 0,
      "outputs": []
    },
    {
      "cell_type": "code",
      "metadata": {
        "id": "J0crlPvFYKmX",
        "colab_type": "code",
        "colab": {}
      },
      "source": [
        "girls1516 = girls1516.set_index(\"Name\").sort_index()\n",
        "girls1516"
      ],
      "execution_count": 0,
      "outputs": []
    },
    {
      "cell_type": "markdown",
      "metadata": {
        "id": "UtPRTjx6YKma",
        "colab_type": "text"
      },
      "source": [
        "## The filter function with like"
      ]
    },
    {
      "cell_type": "code",
      "metadata": {
        "scrolled": false,
        "id": "Jr3BFy_fYKmc",
        "colab_type": "code",
        "colab": {}
      },
      "source": [
        "pd.options.display.max_rows = 10000\n",
        "girls1516.filter(like='-', axis=0)"
      ],
      "execution_count": 0,
      "outputs": []
    }
  ]
}