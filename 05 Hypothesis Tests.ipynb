{
  "nbformat": 4,
  "nbformat_minor": 0,
  "metadata": {
    "celltoolbar": "Slideshow",
    "kernelspec": {
      "display_name": "Python 3",
      "language": "python",
      "name": "python3"
    },
    "language_info": {
      "codemirror_mode": {
        "name": "ipython",
        "version": 3
      },
      "file_extension": ".py",
      "mimetype": "text/x-python",
      "name": "python",
      "nbconvert_exporter": "python",
      "pygments_lexer": "ipython3",
      "version": "3.6.6"
    },
    "colab": {
      "name": "05 Hypothesis Tests.ipynb",
      "provenance": []
    }
  },
  "cells": [
    {
      "cell_type": "markdown",
      "metadata": {
        "id": "azgP28ebdpQI",
        "colab_type": "text"
      },
      "source": [
        "# Hypothesis testing with `scipy` `stats`\n",
        "\n",
        "- [Chi squared](#Chi-squared)\n",
        "- [t test](#t-test)\n",
        "- Binomial\n",
        "    - [Distribution](#Binomial)\n",
        "    - [Hypothesis test](#A-binomial-hypothesis-test)\n",
        "        - [Using the critical region](#Critical-region)\n",
        "        - [Using the `binom_test` function](#Alternatively)\n",
        "    - [Interactive](#Using-interact)"
      ]
    },
    {
      "cell_type": "code",
      "metadata": {
        "id": "3w4QxLzvdpQL",
        "colab_type": "code",
        "colab": {}
      },
      "source": [
        "import matplotlib.pyplot as plt\n",
        "import numpy as np\n",
        "import pandas as pd\n",
        "import seaborn as sns\n",
        "from scipy import stats\n",
        "import warnings\n",
        "warnings.simplefilter(action='ignore', category=FutureWarning)"
      ],
      "execution_count": 0,
      "outputs": []
    },
    {
      "cell_type": "markdown",
      "metadata": {
        "id": "bdXSTxrAdpQO",
        "colab_type": "text"
      },
      "source": [
        "## Chi squared"
      ]
    },
    {
      "cell_type": "code",
      "metadata": {
        "id": "QX74pV2PdpQP",
        "colab_type": "code",
        "colab": {}
      },
      "source": [
        "titanic = pd.read_csv('https://raw.githubusercontent.com/adaapp/dav-introductionToPandas/master/titanic.txt', sep='\\t')"
      ],
      "execution_count": 0,
      "outputs": []
    },
    {
      "cell_type": "markdown",
      "metadata": {
        "id": "pu-gL9AIdpQS",
        "colab_type": "text"
      },
      "source": [
        "The Chi square test compares the observed coincidence of two categorical variables with what the expected coincidence would be if they were independent.\n",
        "\n",
        "Going back to the Titanic data, we can see the observed coincidence of `Sex` and `Survived` in a *contingency table* (what `pandas` calls a `crosstab`):"
      ]
    },
    {
      "cell_type": "code",
      "metadata": {
        "scrolled": true,
        "id": "YU1GCQTYdpQS",
        "colab_type": "code",
        "colab": {}
      },
      "source": [
        "pd.crosstab(titanic.Sex, titanic.Survived, margins=True)"
      ],
      "execution_count": 0,
      "outputs": []
    },
    {
      "cell_type": "markdown",
      "metadata": {
        "id": "4QNdfxhZdpQV",
        "colab_type": "text"
      },
      "source": [
        "We can pass that table to the `contingency.expected_freq` function from `scipy.stats` to see what numbers we'd expected if the two variables were independent:"
      ]
    },
    {
      "cell_type": "code",
      "metadata": {
        "id": "8BuuBHNedpQW",
        "colab_type": "code",
        "colab": {}
      },
      "source": [
        "stats.contingency.expected_freq(pd.crosstab(titanic.Sex, titanic.Survived))\n"
      ],
      "execution_count": 0,
      "outputs": []
    },
    {
      "cell_type": "markdown",
      "metadata": {
        "id": "LvdwV6rkdpQa",
        "colab_type": "text"
      },
      "source": [
        "So it certainly looks like there's something going on. We can pass that crosstab into `chi2_contingency` to carry out the hypothesis test with:\n",
        "\n",
        "$H_0$: The variables `Sex` and `Survived` are independent\n",
        "\n",
        "$H_1$: There is an association between `Sex` and `Survived`"
      ]
    },
    {
      "cell_type": "code",
      "metadata": {
        "id": "uNyPXUEcdpQa",
        "colab_type": "code",
        "colab": {}
      },
      "source": [
        "titanic_chi2 = stats.chi2_contingency(pd.crosstab(titanic.Sex, titanic.Survived))\n",
        "titanic_chi2"
      ],
      "execution_count": 0,
      "outputs": []
    },
    {
      "cell_type": "markdown",
      "metadata": {
        "id": "de_HyvCMdpQe",
        "colab_type": "text"
      },
      "source": [
        "The first item is the chi square statistic, the second is the p value, and the third is the expected contingency table if the null hypothesis were true.\n",
        "\n",
        "The high chi square statistic and very low p value strongly suggest that these two variables are *not* independent."
      ]
    },
    {
      "cell_type": "markdown",
      "metadata": {
        "id": "fzVyft4idpQf",
        "colab_type": "text"
      },
      "source": [
        "## t test"
      ]
    },
    {
      "cell_type": "code",
      "metadata": {
        "id": "_zIUW4k5dpQf",
        "colab_type": "code",
        "colab": {}
      },
      "source": [
        "from ipywidgets import interact, IntSlider, FloatSlider"
      ],
      "execution_count": 0,
      "outputs": []
    },
    {
      "cell_type": "code",
      "metadata": {
        "id": "AbQmXz7TdpQi",
        "colab_type": "code",
        "colab": {}
      },
      "source": [
        "def update(n=30,meanA=50,stdA=1,meanB=50,stdB=1,alpha=0.05):\n",
        "    # generate two sets of normally distributed data\n",
        "    groupA = np.random.normal(meanA, stdA, n)\n",
        "    groupB = np.random.normal(meanB, stdB, n)\n",
        "    # plot them\n",
        "    sns.distplot(groupA)\n",
        "    sns.distplot(groupB)\n",
        "    # apply an independent t-test\n",
        "    ttest_result = stats.ttest_ind(groupA,groupB, equal_var=False)\n",
        "    s = '''\n",
        "    meanA = {}\n",
        "    meanB = {}\n",
        "    H0: meanA = meanB\n",
        "    H1: meanA <> meanB\n",
        "    t = {}\n",
        "    '''  \n",
        "    if (ttest_result.pvalue) <= alpha:\n",
        "        s+= '''\n",
        "        p = {} <= {}\n",
        "        Reject H0 at the {} significance level\n",
        "        '''\n",
        "    else:\n",
        "        s+= '''\n",
        "        p = {} > {}\n",
        "        Fail to reject H0 at the {} significance level\n",
        "        '''\n",
        "    print(s.format(groupA.mean().round(2),groupB.mean().round(2),ttest_result.statistic, ttest_result.pvalue, alpha, alpha))\n",
        "interact(update,\n",
        "         n=IntSlider(value=30,min=3,max=100,step=1,continuous_update=False),\n",
        "         meanA=IntSlider(value=50,min=10,max=100,step=1,continuous_update=False),\n",
        "         stdA=IntSlider(value=1,min=1,max=10,step=1,continuous_update=False),\n",
        "         meanB=IntSlider(value=50,min=10,max=100,step=1,continuous_update=False),\n",
        "         stdB=IntSlider(value=1,min=1,max=10,step=1,continuous_update=False),\n",
        "         alpha=FloatSlider(value=0.05,min=0.01,max=0.1,step=0.01,continuous_update=False)\n",
        "         );"
      ],
      "execution_count": 0,
      "outputs": []
    },
    {
      "cell_type": "markdown",
      "metadata": {
        "id": "SO4HwR3NdpQl",
        "colab_type": "text"
      },
      "source": [
        "## Binomial"
      ]
    },
    {
      "cell_type": "markdown",
      "metadata": {
        "id": "otbJXvBXdpQn",
        "colab_type": "text"
      },
      "source": [
        "* Use the scipy.stats [binomial](https://docs.scipy.org/doc/scipy/reference/generated/scipy.stats.binom.html#scipy.stats.binom) function to generate binomial distributions. Plot them. Make an `interact` to vary the parameters\n",
        "* The [binom_test](https://docs.scipy.org/doc/scipy-0.14.0/reference/generated/scipy.stats.binom_test.html) to write a binomial hypothesis test procedure."
      ]
    },
    {
      "cell_type": "markdown",
      "metadata": {
        "id": "5oslLFQLdpQp",
        "colab_type": "text"
      },
      "source": [
        "Generate one random number from a binomial distribution"
      ]
    },
    {
      "cell_type": "code",
      "metadata": {
        "id": "sYpGkZbadpQq",
        "colab_type": "code",
        "colab": {}
      },
      "source": [
        "stats.binom.rvs(n=100,p=1/6)"
      ],
      "execution_count": 0,
      "outputs": []
    },
    {
      "cell_type": "markdown",
      "metadata": {
        "id": "kKtDDiLtdpQt",
        "colab_type": "text"
      },
      "source": [
        "Recall that this represents the number of successes from $n$ independent trials, each with probability of success $p$"
      ]
    },
    {
      "cell_type": "markdown",
      "metadata": {
        "id": "teC2uuK-dpQu",
        "colab_type": "text"
      },
      "source": [
        "Let's now get a list of these to plot"
      ]
    },
    {
      "cell_type": "code",
      "metadata": {
        "id": "7BTeQGaadpQw",
        "colab_type": "code",
        "colab": {}
      },
      "source": [
        "binomial = stats.binom.rvs(n=100,p=1/6, size=1000)\n",
        "sns.distplot(binomial, bins=20);"
      ],
      "execution_count": 0,
      "outputs": []
    },
    {
      "cell_type": "markdown",
      "metadata": {
        "id": "9bTxU8hudpQy",
        "colab_type": "text"
      },
      "source": [
        "In theory we could get from 0 to 100 success so let's fix the axes:"
      ]
    },
    {
      "cell_type": "code",
      "metadata": {
        "id": "KvQXcGpWdpQz",
        "colab_type": "code",
        "colab": {}
      },
      "source": [
        "#binomial = stats.binom.rvs(n=100,p=1/6, size=1000)\n",
        "binomial = np.random.binomial(100,1/6,size=1000)\n",
        "ax = sns.distplot(binomial, bins=10)\n",
        "ax.set_xlim(0,100);"
      ],
      "execution_count": 0,
      "outputs": []
    },
    {
      "cell_type": "markdown",
      "metadata": {
        "id": "S43_jDPLdpQ2",
        "colab_type": "text"
      },
      "source": [
        "This shows how skewed the distribution is. We can get results over 40 successes but very rarely."
      ]
    },
    {
      "cell_type": "markdown",
      "metadata": {
        "id": "ocU2qjRUdpQ3",
        "colab_type": "text"
      },
      "source": [
        "### A binomial hypothesis test\n",
        "There are two ways to approach a binomial hypothesis test:\n",
        "\n",
        "- find the probability of the observed outcome (or an even less likely outcome) and see if that is less than your chosen alpha\n",
        "- identify a *critical region* of outcomes that represent your alpha and then see if the observed outcome is within that region"
      ]
    },
    {
      "cell_type": "markdown",
      "metadata": {
        "id": "gzlPy0LZdpQ4",
        "colab_type": "text"
      },
      "source": [
        "### Critical regions\n",
        "\n",
        "Let's say that you think Dodgy Bob's dice is biased in favour of sixes. You're going to ask him to roll his dice a hundred times. How can we decide in advance what sort of outcome would convince us to reject the null (and safe) hypothesis and assert that the dice is biased?"
      ]
    },
    {
      "cell_type": "markdown",
      "metadata": {
        "id": "vltRJmkfdpQ5",
        "colab_type": "text"
      },
      "source": [
        "Let $p$ be the probability of throwing a six on an unbiased dice.\n",
        "\n",
        "$H_0:p=\\frac{1}{6}\\\\H_1:p>\\frac{1}{6}$\n",
        "\n",
        "Shall we say $\\alpha=0.05$ is our significance level? In other words, we'll decide the critical region by considering outcomes that have a less than 5% if the dice is *not* dodgy."
      ]
    },
    {
      "cell_type": "markdown",
      "metadata": {
        "id": "Jt6tQ80kdpQ6",
        "colab_type": "text"
      },
      "source": [
        "The `stats.binom.cdf(k,n,p)` function will give us the cumulative probability of getting up to and including `k` successes from `n` trials with probability `p`.\n",
        "\n",
        "So for example the probability of getting 10 or fewer sixes from 100 rolls of an unbiased dice is:"
      ]
    },
    {
      "cell_type": "code",
      "metadata": {
        "id": "fIFrpcandpQ6",
        "colab_type": "code",
        "colab": {}
      },
      "source": [
        "stats.binom.cdf(90,100,1/6)"
      ],
      "execution_count": 0,
      "outputs": []
    },
    {
      "cell_type": "markdown",
      "metadata": {
        "id": "Sw5Ps3VOdpQ8",
        "colab_type": "text"
      },
      "source": [
        "So if we'd been worried about this dice being biased *against* sixes, that result would have been in our critical region!"
      ]
    },
    {
      "cell_type": "markdown",
      "metadata": {
        "id": "D7SJWkZkdpQ-",
        "colab_type": "text"
      },
      "source": [
        "Look how the probability of getting k or fewer successes increases as k goes from 0 to 100:"
      ]
    },
    {
      "cell_type": "code",
      "metadata": {
        "scrolled": true,
        "id": "lv7hdVcidpQ-",
        "colab_type": "code",
        "colab": {}
      },
      "source": [
        "ks = np.arange(101)\n",
        "bcdf = [stats.binom.cdf(k,100,1/6) for k in ks]\n",
        "sns.lineplot(ks, bcdf);"
      ],
      "execution_count": 0,
      "outputs": []
    },
    {
      "cell_type": "markdown",
      "metadata": {
        "id": "BV4gAn7CdpRB",
        "colab_type": "text"
      },
      "source": [
        "To identify our critical region, we need to know when k crosses into the 95% region. In other words, there's a 95% chance that we get fewer than k successes, or a 5% chance that we get k or more.\n",
        "\n",
        "`stats.binom` has a function for that too:"
      ]
    },
    {
      "cell_type": "code",
      "metadata": {
        "id": "GiBWGDA0dpRC",
        "colab_type": "code",
        "colab": {}
      },
      "source": [
        "stats.binom.ppf(0.95,100,1/6)"
      ],
      "execution_count": 0,
      "outputs": []
    },
    {
      "cell_type": "markdown",
      "metadata": {
        "id": "vsckgI4OdpRG",
        "colab_type": "text"
      },
      "source": [
        "The critical region starts at 23 then:"
      ]
    },
    {
      "cell_type": "code",
      "metadata": {
        "scrolled": true,
        "id": "04B13albdpRI",
        "colab_type": "code",
        "colab": {}
      },
      "source": [
        "ks = np.arange(101)\n",
        "bcdf = [stats.binom.cdf(k,100,1/6) for k in ks]\n",
        "ax = sns.lineplot(ks, bcdf)\n",
        "ax.axvspan(23,100,color=\"red\",alpha=0.1);"
      ],
      "execution_count": 0,
      "outputs": []
    },
    {
      "cell_type": "markdown",
      "metadata": {
        "id": "2fgJJ5X_dpRP",
        "colab_type": "text"
      },
      "source": [
        "Just to check:"
      ]
    },
    {
      "cell_type": "code",
      "metadata": {
        "scrolled": true,
        "id": "xUYvuopxdpRQ",
        "colab_type": "code",
        "colab": {}
      },
      "source": [
        "1-stats.binom.cdf(23,100,1/6)"
      ],
      "execution_count": 0,
      "outputs": []
    },
    {
      "cell_type": "markdown",
      "metadata": {
        "id": "l9VL6sRWdpRX",
        "colab_type": "text"
      },
      "source": [
        "So 23 sixes is in our critical region.\n",
        "\n",
        "Now we can get Dodgy Bob to roll the dice 100 times and if he rolls 23 or more sixes we can reject the null hypothesis at the 5% significance level.\n",
        "\n",
        "We could then repeat this with as many suspected dodgy dice owners as we like. But note that for every twenty accusations we make, we'd expect one of them to be a false accusation! "
      ]
    },
    {
      "cell_type": "markdown",
      "metadata": {
        "id": "djk2Hc6xdpRZ",
        "colab_type": "text"
      },
      "source": [
        "### Alternatively\n",
        "\n",
        "Alternatively, suppose we've already seen Dodgy Bob roll his dice 100 times, and he just got 25 sixes. We can carry out the hypothesis test in one line like this:"
      ]
    },
    {
      "cell_type": "code",
      "metadata": {
        "id": "1fzQjhCPdpRb",
        "colab_type": "code",
        "colab": {}
      },
      "source": [
        "stats.binom_test(25, 100, 1/6)"
      ],
      "execution_count": 0,
      "outputs": []
    },
    {
      "cell_type": "markdown",
      "metadata": {
        "id": "-7i3EYfedpRf",
        "colab_type": "text"
      },
      "source": [
        "This p value is less than our threshold, so we reject the null hypothesis as before."
      ]
    },
    {
      "cell_type": "markdown",
      "metadata": {
        "id": "RWaEkgYtdpRg",
        "colab_type": "text"
      },
      "source": [
        "If he'd rolled 21 sixes:"
      ]
    },
    {
      "cell_type": "code",
      "metadata": {
        "id": "bqhct__BdpRi",
        "colab_type": "code",
        "colab": {}
      },
      "source": [
        "stats.binom_test(21, 100, 1/6)"
      ],
      "execution_count": 0,
      "outputs": []
    },
    {
      "cell_type": "markdown",
      "metadata": {
        "id": "6RIlBpcGdpRk",
        "colab_type": "text"
      },
      "source": [
        "This is perhaps an unusually high number of sixes, but the p value is not below our threshold, so we fail to reject the null hypothesis, and leave Dodgy Bob with his dice."
      ]
    },
    {
      "cell_type": "markdown",
      "metadata": {
        "id": "E3iATbGMdpRm",
        "colab_type": "text"
      },
      "source": [
        "### Using interact"
      ]
    },
    {
      "cell_type": "code",
      "metadata": {
        "id": "pHcRq_zhdpRm",
        "colab_type": "code",
        "colab": {}
      },
      "source": [
        "from ipywidgets import interact, IntSlider, FloatSlider, Dropdown"
      ],
      "execution_count": 0,
      "outputs": []
    },
    {
      "cell_type": "code",
      "metadata": {
        "id": "_4olo54EdpRp",
        "colab_type": "code",
        "colab": {}
      },
      "source": [
        "\n",
        "def update(n,p,alpha,tails):\n",
        "    ks = np.arange(n+1)\n",
        "    bcdf = [stats.binom.cdf(k,n,p) for k in ks]\n",
        "    ax = sns.lineplot(ks, bcdf)\n",
        "    if tails == \"both\":\n",
        "        a = alpha/2\n",
        "    else:\n",
        "        a = alpha\n",
        "    if tails == \"both\" or tails == \"left\":\n",
        "        left_crit = int(stats.binom.ppf(a,n,p))\n",
        "        ax.axvspan(0,left_crit,color=\"red\",alpha=0.1)\n",
        "        ax.annotate(left_crit,(left_crit,0.5))\n",
        "    if tails == \"both\" or tails == \"right\":\n",
        "        right_crit = int(stats.binom.ppf(1-a,n,p))\n",
        "        ax.axvspan(right_crit,n,color=\"red\",alpha=0.1)\n",
        "        ax.annotate(right_crit,(right_crit,0.5))\n",
        "        # The alpha here is opacity not significance level!\n",
        "\n",
        "interact(update,\n",
        "        n = IntSlider(value=100, min=10, max=200, continuous_update=False),\n",
        "        p = FloatSlider(value=1/6, min=0.01, max=0.99, step=0.01, continuous_update=False),\n",
        "        alpha = Dropdown(options=[0.05,0.01,0.005,0.001]),\n",
        "        tails = Dropdown(options=[\"left\",\"right\",\"both\"]));"
      ],
      "execution_count": 0,
      "outputs": []
    }
  ]
}