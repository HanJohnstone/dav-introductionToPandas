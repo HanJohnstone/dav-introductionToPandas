{
  "nbformat": 4,
  "nbformat_minor": 0,
  "metadata": {
    "kernelspec": {
      "display_name": "Python 3",
      "language": "python",
      "name": "python3"
    },
    "language_info": {
      "codemirror_mode": {
        "name": "ipython",
        "version": 3
      },
      "file_extension": ".py",
      "mimetype": "text/x-python",
      "name": "python",
      "nbconvert_exporter": "python",
      "pygments_lexer": "ipython3",
      "version": "3.6.6"
    },
    "colab": {
      "name": "07 Groundhog Day.ipynb",
      "provenance": []
    }
  },
  "cells": [
    {
      "cell_type": "markdown",
      "metadata": {
        "id": "4x_19PZVeEdK",
        "colab_type": "text"
      },
      "source": [
        "# Can Punxsutawney Phil really predict the weather?\n",
        "\n",
        "> Punxsutawney Phil is the name of a groundhog in Punxsutawney, Pennsylvania. On February 2 (Groundhog Day) each year, the borough of Punxsutawney celebrates the legendary groundhog with a festive atmosphere of music and food. During the ceremony, which begins well before the winter sunrise, Phil emerges from his temporary home on Gobbler's Knob, located in a rural area about 2 miles (3 km) southeast of town. According to the tradition, if Phil sees his shadow and returns to his hole, he has predicted six more weeks of winter-like weather. If Phil does not see his shadow, he has predicted an \"early spring.\" The date of Phil's prognostication is known as Groundhog Day in the United States and Canada, and has been celebrated since 1887. Punxsutawney Phil became an international celebrity thanks to the 1993 movie Groundhog Day."
      ]
    },
    {
      "cell_type": "markdown",
      "metadata": {
        "id": "xnuk--yceEdL",
        "colab_type": "text"
      },
      "source": [
        "Historical data regarding Groundhog Day is available in the file `groundhog.csv`\n",
        "\n",
        "The average temperature is recorded for February and March in\n",
        "\n",
        "- Pennsylvania (which is in the north-eastern USA)\n",
        "- The North-East more widely\n",
        "- The Mid-Western US\n",
        "- The whole country\n",
        "\n",
        "To start\n",
        "\n",
        "- Import the data\n",
        "- Check the datatypes\n",
        "- Make the year column a datetime object\n",
        "- Set the year as the index\n",
        "\n",
        "Some initial exploration\n",
        "\n",
        "- How frequently does Phil see his full shadow?\n",
        "- How do temperatures in the different regions compare?\n",
        "- Has / how has average temperature changed over time?\n",
        "\n",
        "The main question\n",
        "\n",
        "- Is there a significant difference between average temperatures when Phil has or has not seen his shadow?\n",
        "    - In Pennsylvania? More widely?\n",
        "    \n",
        "You might find the following functions useful\n",
        "\n",
        "- `df.rename({'one': 'foo', 'two': 'bar'}, axis='columns')`"
      ]
    },
    {
      "cell_type": "code",
      "metadata": {
        "id": "psHWd4uieEdN",
        "colab_type": "code",
        "colab": {}
      },
      "source": [
        "import pandas as pd"
      ],
      "execution_count": 0,
      "outputs": []
    },
    {
      "cell_type": "code",
      "metadata": {
        "id": "QPr-fJLjeEdR",
        "colab_type": "code",
        "colab": {}
      },
      "source": [
        "from scipy import stats"
      ],
      "execution_count": 0,
      "outputs": []
    },
    {
      "cell_type": "code",
      "metadata": {
        "id": "4cHnWh0YeEdU",
        "colab_type": "code",
        "colab": {}
      },
      "source": [
        "phil = pd.read_csv(\"https://raw.githubusercontent.com/adaapp/dav-introductionToPandas/master/groundhog.csv\")"
      ],
      "execution_count": 0,
      "outputs": []
    },
    {
      "cell_type": "code",
      "metadata": {
        "id": "Rw9hGuFbeEdX",
        "colab_type": "code",
        "colab": {}
      },
      "source": [
        "phil = phil.dropna()[:-1]"
      ],
      "execution_count": 0,
      "outputs": []
    },
    {
      "cell_type": "code",
      "metadata": {
        "id": "3Z_3s7TYeEdZ",
        "colab_type": "code",
        "colab": {}
      },
      "source": [
        "phil = phil.rename({\"Punxsutawney Phil\":\"Shadow\"}, axis='columns')"
      ],
      "execution_count": 0,
      "outputs": []
    },
    {
      "cell_type": "code",
      "metadata": {
        "id": "pM97slEOeEdc",
        "colab_type": "code",
        "colab": {}
      },
      "source": [
        "phil.query('Shadow == \"Full Shadow\"').mean()"
      ],
      "execution_count": 0,
      "outputs": []
    },
    {
      "cell_type": "code",
      "metadata": {
        "id": "8uZciUvfeEde",
        "colab_type": "code",
        "colab": {}
      },
      "source": [
        "phil.query('Shadow == \"No Shadow\"').mean()"
      ],
      "execution_count": 0,
      "outputs": []
    },
    {
      "cell_type": "code",
      "metadata": {
        "id": "Uee3CKOOeEdh",
        "colab_type": "code",
        "colab": {}
      },
      "source": [
        "phil.query('Shadow == \"No Shadow\"').mean() - phil.query('Shadow == \"Full Shadow\"').mean()"
      ],
      "execution_count": 0,
      "outputs": []
    },
    {
      "cell_type": "code",
      "metadata": {
        "id": "iRjFHbCheEdj",
        "colab_type": "code",
        "colab": {}
      },
      "source": [
        "stats.ttest_ind(phil.query('Shadow == \"No Shadow\"')[\"February Average Temperature\"],phil.query('Shadow == \"Full Shadow\"')[\"February Average Temperature\"], equal_var=False)"
      ],
      "execution_count": 0,
      "outputs": []
    }
  ]
}