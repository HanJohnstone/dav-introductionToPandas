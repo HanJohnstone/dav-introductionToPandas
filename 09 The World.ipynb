{
  "nbformat": 4,
  "nbformat_minor": 0,
  "metadata": {
    "celltoolbar": "Slideshow",
    "kernelspec": {
      "display_name": "Python 3",
      "language": "python",
      "name": "python3"
    },
    "language_info": {
      "codemirror_mode": {
        "name": "ipython",
        "version": 3
      },
      "file_extension": ".py",
      "mimetype": "text/x-python",
      "name": "python",
      "nbconvert_exporter": "python",
      "pygments_lexer": "ipython3",
      "version": "3.6.6"
    },
    "colab": {
      "name": "09 The World.ipynb",
      "provenance": []
    }
  },
  "cells": [
    {
      "cell_type": "code",
      "metadata": {
        "id": "4vX-4D4ceZqX",
        "colab_type": "code",
        "colab": {}
      },
      "source": [
        "import pandas as pd\n",
        "import matplotlib.pyplot as plt\n",
        "import seaborn as sns"
      ],
      "execution_count": 0,
      "outputs": []
    },
    {
      "cell_type": "code",
      "metadata": {
        "id": "wmLJWFjSeZqd",
        "colab_type": "code",
        "colab": {
          "base_uri": "https://localhost:8080/",
          "height": 292
        },
        "outputId": "2eaf65e3-9ba7-469b-928f-efbc44425cfb"
      },
      "source": [
        "world = pd.read_csv(\"https://raw.githubusercontent.com/adaapp/dav-introductionToPandas/master/world.csv\")\n",
        "world.head()"
      ],
      "execution_count": 2,
      "outputs": [
        {
          "output_type": "execute_result",
          "data": {
            "text/html": [
              "<div>\n",
              "<style scoped>\n",
              "    .dataframe tbody tr th:only-of-type {\n",
              "        vertical-align: middle;\n",
              "    }\n",
              "\n",
              "    .dataframe tbody tr th {\n",
              "        vertical-align: top;\n",
              "    }\n",
              "\n",
              "    .dataframe thead th {\n",
              "        text-align: right;\n",
              "    }\n",
              "</style>\n",
              "<table border=\"1\" class=\"dataframe\">\n",
              "  <thead>\n",
              "    <tr style=\"text-align: right;\">\n",
              "      <th></th>\n",
              "      <th>no</th>\n",
              "      <th>country</th>\n",
              "      <th>subregion</th>\n",
              "      <th>population</th>\n",
              "      <th>birthrate</th>\n",
              "      <th>deathrate</th>\n",
              "      <th>median_age</th>\n",
              "      <th>life_expectancy</th>\n",
              "      <th>labor_force</th>\n",
              "      <th>unemployment</th>\n",
              "      <th>gdp</th>\n",
              "      <th>physician_density</th>\n",
              "      <th>health_expenditure</th>\n",
              "      <th>total_area</th>\n",
              "      <th>land_area</th>\n",
              "      <th>water_area</th>\n",
              "      <th>land_borders</th>\n",
              "      <th>dependency_status</th>\n",
              "    </tr>\n",
              "  </thead>\n",
              "  <tbody>\n",
              "    <tr>\n",
              "      <th>0</th>\n",
              "      <td>1</td>\n",
              "      <td>Algeria</td>\n",
              "      <td>Africa (Saharan)</td>\n",
              "      <td>39542166</td>\n",
              "      <td>23.67</td>\n",
              "      <td>4.31</td>\n",
              "      <td>27.5</td>\n",
              "      <td>76.59</td>\n",
              "      <td>11780000.0</td>\n",
              "      <td>12.4</td>\n",
              "      <td>14500.0</td>\n",
              "      <td>1.21</td>\n",
              "      <td>5.2</td>\n",
              "      <td>2381741</td>\n",
              "      <td>2381741.0</td>\n",
              "      <td>0</td>\n",
              "      <td>Yes</td>\n",
              "      <td>None</td>\n",
              "    </tr>\n",
              "    <tr>\n",
              "      <th>1</th>\n",
              "      <td>2</td>\n",
              "      <td>Egypt</td>\n",
              "      <td>Africa (Saharan)</td>\n",
              "      <td>88487396</td>\n",
              "      <td>22.90</td>\n",
              "      <td>4.77</td>\n",
              "      <td>25.3</td>\n",
              "      <td>73.70</td>\n",
              "      <td>31960000.0</td>\n",
              "      <td>13.1</td>\n",
              "      <td>11800.0</td>\n",
              "      <td>2.83</td>\n",
              "      <td>5.0</td>\n",
              "      <td>1001450</td>\n",
              "      <td>995450.0</td>\n",
              "      <td>6000</td>\n",
              "      <td>Yes</td>\n",
              "      <td>None</td>\n",
              "    </tr>\n",
              "    <tr>\n",
              "      <th>2</th>\n",
              "      <td>3</td>\n",
              "      <td>Libya</td>\n",
              "      <td>Africa (Saharan)</td>\n",
              "      <td>6411776</td>\n",
              "      <td>18.03</td>\n",
              "      <td>3.58</td>\n",
              "      <td>28.0</td>\n",
              "      <td>76.26</td>\n",
              "      <td>1153000.0</td>\n",
              "      <td>30.0</td>\n",
              "      <td>14600.0</td>\n",
              "      <td>1.90</td>\n",
              "      <td>3.9</td>\n",
              "      <td>1759540</td>\n",
              "      <td>1759540.0</td>\n",
              "      <td>0</td>\n",
              "      <td>Yes</td>\n",
              "      <td>None</td>\n",
              "    </tr>\n",
              "    <tr>\n",
              "      <th>3</th>\n",
              "      <td>4</td>\n",
              "      <td>Morocco</td>\n",
              "      <td>Africa (Saharan)</td>\n",
              "      <td>33322699</td>\n",
              "      <td>18.20</td>\n",
              "      <td>4.81</td>\n",
              "      <td>28.5</td>\n",
              "      <td>76.71</td>\n",
              "      <td>12230000.0</td>\n",
              "      <td>9.9</td>\n",
              "      <td>8200.0</td>\n",
              "      <td>0.62</td>\n",
              "      <td>6.4</td>\n",
              "      <td>446550</td>\n",
              "      <td>446300.0</td>\n",
              "      <td>250</td>\n",
              "      <td>Yes</td>\n",
              "      <td>None</td>\n",
              "    </tr>\n",
              "    <tr>\n",
              "      <th>4</th>\n",
              "      <td>5</td>\n",
              "      <td>Tunisia</td>\n",
              "      <td>Africa (Saharan)</td>\n",
              "      <td>11037225</td>\n",
              "      <td>16.64</td>\n",
              "      <td>5.98</td>\n",
              "      <td>31.9</td>\n",
              "      <td>75.89</td>\n",
              "      <td>4038000.0</td>\n",
              "      <td>15.4</td>\n",
              "      <td>11400.0</td>\n",
              "      <td>1.22</td>\n",
              "      <td>7.0</td>\n",
              "      <td>163610</td>\n",
              "      <td>155360.0</td>\n",
              "      <td>8250</td>\n",
              "      <td>Yes</td>\n",
              "      <td>None</td>\n",
              "    </tr>\n",
              "  </tbody>\n",
              "</table>\n",
              "</div>"
            ],
            "text/plain": [
              "   no  country         subregion  ...  water_area  land_borders  dependency_status\n",
              "0   1  Algeria  Africa (Saharan)  ...           0           Yes               None\n",
              "1   2    Egypt  Africa (Saharan)  ...        6000           Yes               None\n",
              "2   3    Libya  Africa (Saharan)  ...           0           Yes               None\n",
              "3   4  Morocco  Africa (Saharan)  ...         250           Yes               None\n",
              "4   5  Tunisia  Africa (Saharan)  ...        8250           Yes               None\n",
              "\n",
              "[5 rows x 18 columns]"
            ]
          },
          "metadata": {
            "tags": []
          },
          "execution_count": 2
        }
      ]
    },
    {
      "cell_type": "code",
      "metadata": {
        "id": "4ymRk7gPeZqg",
        "colab_type": "code",
        "colab": {}
      },
      "source": [
        "world.set_index(\"country\").drop(columns=\"no\")"
      ],
      "execution_count": 0,
      "outputs": []
    },
    {
      "cell_type": "code",
      "metadata": {
        "id": "S0Yi9J3KeZqi",
        "colab_type": "code",
        "colab": {}
      },
      "source": [
        "world = world.set_index(\"country\").drop(columns=\"no\")"
      ],
      "execution_count": 0,
      "outputs": []
    },
    {
      "cell_type": "markdown",
      "metadata": {
        "id": "D9IBRxMUeZql",
        "colab_type": "text"
      },
      "source": [
        "## Seaborn relplot\n",
        "\n",
        "This is a *facet* plot. Here we tell it to group the data by subregions in three columns."
      ]
    },
    {
      "cell_type": "code",
      "metadata": {
        "scrolled": false,
        "id": "B8edna4HeZqm",
        "colab_type": "code",
        "colab": {}
      },
      "source": [
        "sns.relplot(data=world, x=\"physician_density\", y=\"birthrate\", col=\"subregion\", col_wrap=3)"
      ],
      "execution_count": 0,
      "outputs": []
    },
    {
      "cell_type": "markdown",
      "metadata": {
        "id": "ji7irK4veZqp",
        "colab_type": "text"
      },
      "source": [
        "## Selecting numerical columns\n",
        "\n",
        "We can use `select_dtypes` to get only columns containing certain kinds of data, in this case floats and integers - ie numeric."
      ]
    },
    {
      "cell_type": "code",
      "metadata": {
        "id": "qEuoDAeMeZqq",
        "colab_type": "code",
        "colab": {}
      },
      "source": [
        "world.select_dtypes(include=['float64','int64'])"
      ],
      "execution_count": 0,
      "outputs": []
    },
    {
      "cell_type": "markdown",
      "metadata": {
        "id": "Jvla-ECreZqs",
        "colab_type": "text"
      },
      "source": [
        "## Seaborn pairplot\n",
        "\n",
        "We can give that numeric data to seaborn's `pairplot` function to look for relationships between any pair of variables, and as a bonus see the distribution of each variable in a histogram."
      ]
    },
    {
      "cell_type": "code",
      "metadata": {
        "id": "l5qu1uUyeZqt",
        "colab_type": "code",
        "colab": {}
      },
      "source": [
        "sns.pairplot(world.select_dtypes(include=['float64','int64']).dropna())"
      ],
      "execution_count": 0,
      "outputs": []
    },
    {
      "cell_type": "markdown",
      "metadata": {
        "id": "PZ-kjN4MeZqw",
        "colab_type": "text"
      },
      "source": [
        "## Introduction to geopandas"
      ]
    },
    {
      "cell_type": "code",
      "metadata": {
        "id": "QjgWqgN3eZqx",
        "colab_type": "code",
        "colab": {}
      },
      "source": [
        "import geopandas"
      ],
      "execution_count": 0,
      "outputs": []
    },
    {
      "cell_type": "markdown",
      "metadata": {
        "id": "DshmZeyMeZq1",
        "colab_type": "text"
      },
      "source": [
        "`geopandas` has some built-in maps. They're really just dataframes with some drawing information attached."
      ]
    },
    {
      "cell_type": "code",
      "metadata": {
        "id": "EtIAe20HeZq1",
        "colab_type": "code",
        "colab": {}
      },
      "source": [
        "gp_world = geopandas.read_file(geopandas.datasets.get_path('naturalearth_lowres'))\n",
        "gp_world"
      ],
      "execution_count": 0,
      "outputs": []
    },
    {
      "cell_type": "markdown",
      "metadata": {
        "id": "3XqBwcgdeZq5",
        "colab_type": "text"
      },
      "source": [
        "### How to get your index back into a column"
      ]
    },
    {
      "cell_type": "code",
      "metadata": {
        "id": "JQZ5KU5-eZq6",
        "colab_type": "code",
        "colab": {}
      },
      "source": [
        "world = world.reset_index()"
      ],
      "execution_count": 0,
      "outputs": []
    },
    {
      "cell_type": "markdown",
      "metadata": {
        "id": "nx-Xa42OeZq9",
        "colab_type": "text"
      },
      "source": [
        "## Merging on a common column with different names"
      ]
    },
    {
      "cell_type": "code",
      "metadata": {
        "id": "xxdIIDZ0eZq9",
        "colab_type": "code",
        "colab": {}
      },
      "source": [
        "gp_merged = gp_world.merge(world,right_on=\"country\", left_on=\"name\")\n",
        "gp_merged"
      ],
      "execution_count": 0,
      "outputs": []
    },
    {
      "cell_type": "markdown",
      "metadata": {
        "id": "eUBvb2Z1eZrA",
        "colab_type": "text"
      },
      "source": [
        "## Drawing a map\n",
        "\n",
        "(or choropleth diagram)"
      ]
    },
    {
      "cell_type": "code",
      "metadata": {
        "id": "MN2QBFokeZrC",
        "colab_type": "code",
        "colab": {}
      },
      "source": [
        "gp_merged.dropna().plot(column=\"gdp\")\n"
      ],
      "execution_count": 0,
      "outputs": []
    }
  ]
}