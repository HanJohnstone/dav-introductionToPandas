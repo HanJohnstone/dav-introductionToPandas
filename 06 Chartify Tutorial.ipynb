{
  "nbformat": 4,
  "nbformat_minor": 0,
  "metadata": {
    "kernelspec": {
      "display_name": "Python 3",
      "language": "python",
      "name": "python3"
    },
    "language_info": {
      "codemirror_mode": {
        "name": "ipython",
        "version": 3
      },
      "file_extension": ".py",
      "mimetype": "text/x-python",
      "name": "python",
      "nbconvert_exporter": "python",
      "pygments_lexer": "ipython3",
      "version": "3.6.6"
    },
    "toc": {
      "nav_menu": {},
      "number_sections": true,
      "sideBar": true,
      "skip_h1_title": false,
      "toc_cell": true,
      "toc_position": {
        "height": "608px",
        "left": "0px",
        "right": "1176px",
        "top": "111px",
        "width": "212px"
      },
      "toc_section_display": "block",
      "toc_window_display": true
    },
    "colab": {
      "name": "06 Chartify Tutorial.ipynb",
      "provenance": []
    }
  },
  "cells": [
    {
      "cell_type": "markdown",
      "metadata": {
        "id": "AuErQX3mZ0ai",
        "colab_type": "text"
      },
      "source": [
        "Very slightly adapted from the developers' original tutorial [here](https://github.com/spotify/chartify/blob/master/examples/Chartify%20Tutorial.ipynb)"
      ]
    },
    {
      "cell_type": "markdown",
      "metadata": {
        "toc": true,
        "id": "iEyaxCVBZ0aj",
        "colab_type": "text"
      },
      "source": [
        "<h1>Table of Contents<span class=\"tocSkip\"></span></h1>\n",
        "<div class=\"toc\" style=\"margin-top: 1em;\"><ul class=\"toc-item\"><li><span><a href=\"#Chart-object\" data-toc-modified-id=\"Chart-object-1\"><span class=\"toc-item-num\">1&nbsp;&nbsp;</span>Chart object</a></span></li><li><span><a href=\"#Adding-chart-labels\" data-toc-modified-id=\"Adding-chart-labels-2\"><span class=\"toc-item-num\">2&nbsp;&nbsp;</span>Adding chart labels</a></span></li><li><span><a href=\"#Getting-help\" data-toc-modified-id=\"Getting-help-3\"><span class=\"toc-item-num\">3&nbsp;&nbsp;</span>Getting help</a></span></li><li><span><a href=\"#Callouts\" data-toc-modified-id=\"Callouts-4\"><span class=\"toc-item-num\">4&nbsp;&nbsp;</span>Callouts</a></span></li><li><span><a href=\"#Axes\" data-toc-modified-id=\"Axes-5\"><span class=\"toc-item-num\">5&nbsp;&nbsp;</span>Axes</a></span></li><li><span><a href=\"#Method-chaining\" data-toc-modified-id=\"Method-chaining-6\"><span class=\"toc-item-num\">6&nbsp;&nbsp;</span>Method chaining</a></span></li><li><span><a href=\"#Plotting\" data-toc-modified-id=\"Plotting-7\"><span class=\"toc-item-num\">7&nbsp;&nbsp;</span>Plotting</a></span><ul class=\"toc-item\"><li><span><a href=\"#Input-data-format\" data-toc-modified-id=\"Input-data-format-7.1\"><span class=\"toc-item-num\">7.1&nbsp;&nbsp;</span>Input data format</a></span></li><li><span><a href=\"#Pivoted-data:-INVALID\" data-toc-modified-id=\"Pivoted-data:-INVALID-7.2\"><span class=\"toc-item-num\">7.2&nbsp;&nbsp;</span>Pivoted data: INVALID</a></span><ul class=\"toc-item\"><li><span><a href=\"#Melting-pivoted-data:-VALID\" data-toc-modified-id=\"Melting-pivoted-data:-VALID-7.2.1\"><span class=\"toc-item-num\">7.2.1&nbsp;&nbsp;</span>Melting pivoted data: VALID</a></span></li></ul></li><li><span><a href=\"#Pandas-series:-INVALID\" data-toc-modified-id=\"Pandas-series:-INVALID-7.3\"><span class=\"toc-item-num\">7.3&nbsp;&nbsp;</span>Pandas series: INVALID</a></span></li><li><span><a href=\"#Pandas-index:-INVALID\" data-toc-modified-id=\"Pandas-index:-INVALID-7.4\"><span class=\"toc-item-num\">7.4&nbsp;&nbsp;</span>Pandas index: INVALID</a></span></li><li><span><a href=\"#Pandas-DataFrame:-VALID\" data-toc-modified-id=\"Pandas-DataFrame:-VALID-7.5\"><span class=\"toc-item-num\">7.5&nbsp;&nbsp;</span>Pandas DataFrame: VALID</a></span></li></ul></li><li><span><a href=\"#Axis-types\" data-toc-modified-id=\"Axis-types-8\"><span class=\"toc-item-num\">8&nbsp;&nbsp;</span>Axis types</a></span></li><li><span><a href=\"#Vertical-Bar-plot\" data-toc-modified-id=\"Vertical-Bar-plot-9\"><span class=\"toc-item-num\">9&nbsp;&nbsp;</span>Vertical Bar plot</a></span></li><li><span><a href=\"#Examples\" data-toc-modified-id=\"Examples-10\"><span class=\"toc-item-num\">10&nbsp;&nbsp;</span>Examples</a></span></li><li><span><a href=\"#Bar-plot---Horizontal-vs.-Vertical\" data-toc-modified-id=\"Bar-plot---Horizontal-vs.-Vertical-11\"><span class=\"toc-item-num\">11&nbsp;&nbsp;</span>Bar plot - Horizontal vs. Vertical</a></span></li><li><span><a href=\"#Grouped-bar-plot\" data-toc-modified-id=\"Grouped-bar-plot-12\"><span class=\"toc-item-num\">12&nbsp;&nbsp;</span>Grouped bar plot</a></span></li><li><span><a href=\"#show('html')-vs.-show('png')\" data-toc-modified-id=\"show('html')-vs.-show('png')-13\"><span class=\"toc-item-num\">13&nbsp;&nbsp;</span>show('html') vs. show('png')</a></span></li><li><span><a href=\"#Color-palette-types\" data-toc-modified-id=\"Color-palette-types-14\"><span class=\"toc-item-num\">14&nbsp;&nbsp;</span>Color palette types</a></span></li><li><span><a href=\"#Color-palettes\" data-toc-modified-id=\"Color-palettes-15\"><span class=\"toc-item-num\">15&nbsp;&nbsp;</span>Color palettes</a></span></li><li><span><a href=\"#Layouts\" data-toc-modified-id=\"Layouts-16\"><span class=\"toc-item-num\">16&nbsp;&nbsp;</span>Layouts</a></span></li><li><span><a href=\"#Advanced-usage-with-Bokeh\" data-toc-modified-id=\"Advanced-usage-with-Bokeh-17\"><span class=\"toc-item-num\">17&nbsp;&nbsp;</span>Advanced usage with Bokeh</a></span></li></ul></div>"
      ]
    },
    {
      "cell_type": "code",
      "metadata": {
        "id": "8eoe2rMcaAdr",
        "colab_type": "code",
        "colab": {
          "base_uri": "https://localhost:8080/",
          "height": 996
        },
        "outputId": "5eb75d4f-6f05-4fd8-f30d-5004af57b8a6"
      },
      "source": [
        "!pip install chartify"
      ],
      "execution_count": 3,
      "outputs": [
        {
          "output_type": "stream",
          "text": [
            "Collecting chartify\n",
            "\u001b[?25l  Downloading https://files.pythonhosted.org/packages/de/e7/2b4ffc35795210241f669633433b2075b118a53dbffce731a37fd9ebdb13/chartify-2.6.1-py2.py3-none-any.whl (48kB)\n",
            "\u001b[K     |████████████████████████████████| 51kB 3.6MB/s \n",
            "\u001b[?25hRequirement already satisfied: bokeh<2.0.0,>=0.12.16 in /usr/local/lib/python3.6/dist-packages (from chartify) (1.0.4)\n",
            "Requirement already satisfied: pandas<1.0.0,>=0.21.0 in /usr/local/lib/python3.6/dist-packages (from chartify) (0.24.2)\n",
            "Requirement already satisfied: scipy<2.0.0,>=1.0.0 in /usr/local/lib/python3.6/dist-packages (from chartify) (1.3.1)\n",
            "Collecting colour<1.0.0,>=0.1.5 (from chartify)\n",
            "  Downloading https://files.pythonhosted.org/packages/74/46/e81907704ab203206769dee1385dc77e1407576ff8f50a0681d0a6b541be/colour-0.1.5-py2.py3-none-any.whl\n",
            "Requirement already satisfied: Pillow>=4.3.0 in /usr/local/lib/python3.6/dist-packages (from chartify) (4.3.0)\n",
            "Collecting selenium<=3.8.0,>=3.7.0 (from chartify)\n",
            "\u001b[?25l  Downloading https://files.pythonhosted.org/packages/2c/10/5ed4ece1869781c4420de7983fcb2f1bf6522a5d6f6bd0b634ce057f4984/selenium-3.8.0-py2.py3-none-any.whl (941kB)\n",
            "\u001b[K     |████████████████████████████████| 942kB 14.1MB/s \n",
            "\u001b[?25hRequirement already satisfied: jupyter<2.0.0,>=1.0.0 in /usr/local/lib/python3.6/dist-packages (from chartify) (1.0.0)\n",
            "Requirement already satisfied: six>=1.5.2 in /usr/local/lib/python3.6/dist-packages (from bokeh<2.0.0,>=0.12.16->chartify) (1.12.0)\n",
            "Requirement already satisfied: packaging>=16.8 in /usr/local/lib/python3.6/dist-packages (from bokeh<2.0.0,>=0.12.16->chartify) (19.1)\n",
            "Requirement already satisfied: numpy>=1.7.1 in /usr/local/lib/python3.6/dist-packages (from bokeh<2.0.0,>=0.12.16->chartify) (1.16.5)\n",
            "Requirement already satisfied: Jinja2>=2.7 in /usr/local/lib/python3.6/dist-packages (from bokeh<2.0.0,>=0.12.16->chartify) (2.10.1)\n",
            "Requirement already satisfied: tornado>=4.3 in /usr/local/lib/python3.6/dist-packages (from bokeh<2.0.0,>=0.12.16->chartify) (4.5.3)\n",
            "Requirement already satisfied: python-dateutil>=2.1 in /usr/local/lib/python3.6/dist-packages (from bokeh<2.0.0,>=0.12.16->chartify) (2.5.3)\n",
            "Requirement already satisfied: PyYAML>=3.10 in /usr/local/lib/python3.6/dist-packages (from bokeh<2.0.0,>=0.12.16->chartify) (3.13)\n",
            "Requirement already satisfied: pytz>=2011k in /usr/local/lib/python3.6/dist-packages (from pandas<1.0.0,>=0.21.0->chartify) (2018.9)\n",
            "Requirement already satisfied: olefile in /usr/local/lib/python3.6/dist-packages (from Pillow>=4.3.0->chartify) (0.46)\n",
            "Requirement already satisfied: ipykernel in /usr/local/lib/python3.6/dist-packages (from jupyter<2.0.0,>=1.0.0->chartify) (4.6.1)\n",
            "Requirement already satisfied: qtconsole in /usr/local/lib/python3.6/dist-packages (from jupyter<2.0.0,>=1.0.0->chartify) (4.5.5)\n",
            "Requirement already satisfied: ipywidgets in /usr/local/lib/python3.6/dist-packages (from jupyter<2.0.0,>=1.0.0->chartify) (7.5.1)\n",
            "Requirement already satisfied: notebook in /usr/local/lib/python3.6/dist-packages (from jupyter<2.0.0,>=1.0.0->chartify) (5.2.2)\n",
            "Requirement already satisfied: nbconvert in /usr/local/lib/python3.6/dist-packages (from jupyter<2.0.0,>=1.0.0->chartify) (5.6.0)\n",
            "Requirement already satisfied: jupyter-console in /usr/local/lib/python3.6/dist-packages (from jupyter<2.0.0,>=1.0.0->chartify) (5.2.0)\n",
            "Requirement already satisfied: pyparsing>=2.0.2 in /usr/local/lib/python3.6/dist-packages (from packaging>=16.8->bokeh<2.0.0,>=0.12.16->chartify) (2.4.2)\n",
            "Requirement already satisfied: attrs in /usr/local/lib/python3.6/dist-packages (from packaging>=16.8->bokeh<2.0.0,>=0.12.16->chartify) (19.1.0)\n",
            "Requirement already satisfied: MarkupSafe>=0.23 in /usr/local/lib/python3.6/dist-packages (from Jinja2>=2.7->bokeh<2.0.0,>=0.12.16->chartify) (1.1.1)\n",
            "Requirement already satisfied: traitlets>=4.1.0 in /usr/local/lib/python3.6/dist-packages (from ipykernel->jupyter<2.0.0,>=1.0.0->chartify) (4.3.2)\n",
            "Requirement already satisfied: ipython>=4.0.0 in /usr/local/lib/python3.6/dist-packages (from ipykernel->jupyter<2.0.0,>=1.0.0->chartify) (5.5.0)\n",
            "Requirement already satisfied: jupyter-client in /usr/local/lib/python3.6/dist-packages (from ipykernel->jupyter<2.0.0,>=1.0.0->chartify) (5.3.1)\n",
            "Requirement already satisfied: jupyter-core in /usr/local/lib/python3.6/dist-packages (from qtconsole->jupyter<2.0.0,>=1.0.0->chartify) (4.5.0)\n",
            "Requirement already satisfied: pygments in /usr/local/lib/python3.6/dist-packages (from qtconsole->jupyter<2.0.0,>=1.0.0->chartify) (2.1.3)\n",
            "Requirement already satisfied: ipython-genutils in /usr/local/lib/python3.6/dist-packages (from qtconsole->jupyter<2.0.0,>=1.0.0->chartify) (0.2.0)\n",
            "Requirement already satisfied: widgetsnbextension~=3.5.0 in /usr/local/lib/python3.6/dist-packages (from ipywidgets->jupyter<2.0.0,>=1.0.0->chartify) (3.5.1)\n",
            "Requirement already satisfied: nbformat>=4.2.0 in /usr/local/lib/python3.6/dist-packages (from ipywidgets->jupyter<2.0.0,>=1.0.0->chartify) (4.4.0)\n",
            "Requirement already satisfied: terminado>=0.3.3; sys_platform != \"win32\" in /usr/local/lib/python3.6/dist-packages (from notebook->jupyter<2.0.0,>=1.0.0->chartify) (0.8.2)\n",
            "Requirement already satisfied: mistune<2,>=0.8.1 in /usr/local/lib/python3.6/dist-packages (from nbconvert->jupyter<2.0.0,>=1.0.0->chartify) (0.8.4)\n",
            "Requirement already satisfied: entrypoints>=0.2.2 in /usr/local/lib/python3.6/dist-packages (from nbconvert->jupyter<2.0.0,>=1.0.0->chartify) (0.3)\n",
            "Requirement already satisfied: bleach in /usr/local/lib/python3.6/dist-packages (from nbconvert->jupyter<2.0.0,>=1.0.0->chartify) (3.1.0)\n",
            "Requirement already satisfied: pandocfilters>=1.4.1 in /usr/local/lib/python3.6/dist-packages (from nbconvert->jupyter<2.0.0,>=1.0.0->chartify) (1.4.2)\n",
            "Requirement already satisfied: defusedxml in /usr/local/lib/python3.6/dist-packages (from nbconvert->jupyter<2.0.0,>=1.0.0->chartify) (0.6.0)\n",
            "Requirement already satisfied: testpath in /usr/local/lib/python3.6/dist-packages (from nbconvert->jupyter<2.0.0,>=1.0.0->chartify) (0.4.2)\n",
            "Requirement already satisfied: prompt-toolkit<2.0.0,>=1.0.0 in /usr/local/lib/python3.6/dist-packages (from jupyter-console->jupyter<2.0.0,>=1.0.0->chartify) (1.0.16)\n",
            "Requirement already satisfied: decorator in /usr/local/lib/python3.6/dist-packages (from traitlets>=4.1.0->ipykernel->jupyter<2.0.0,>=1.0.0->chartify) (4.4.0)\n",
            "Requirement already satisfied: setuptools>=18.5 in /usr/local/lib/python3.6/dist-packages (from ipython>=4.0.0->ipykernel->jupyter<2.0.0,>=1.0.0->chartify) (41.2.0)\n",
            "Requirement already satisfied: pickleshare in /usr/local/lib/python3.6/dist-packages (from ipython>=4.0.0->ipykernel->jupyter<2.0.0,>=1.0.0->chartify) (0.7.5)\n",
            "Requirement already satisfied: pexpect; sys_platform != \"win32\" in /usr/local/lib/python3.6/dist-packages (from ipython>=4.0.0->ipykernel->jupyter<2.0.0,>=1.0.0->chartify) (4.7.0)\n",
            "Requirement already satisfied: simplegeneric>0.8 in /usr/local/lib/python3.6/dist-packages (from ipython>=4.0.0->ipykernel->jupyter<2.0.0,>=1.0.0->chartify) (0.8.1)\n",
            "Requirement already satisfied: pyzmq>=13 in /usr/local/lib/python3.6/dist-packages (from jupyter-client->ipykernel->jupyter<2.0.0,>=1.0.0->chartify) (17.0.0)\n",
            "Requirement already satisfied: jsonschema!=2.5.0,>=2.4 in /usr/local/lib/python3.6/dist-packages (from nbformat>=4.2.0->ipywidgets->jupyter<2.0.0,>=1.0.0->chartify) (2.6.0)\n",
            "Requirement already satisfied: ptyprocess; os_name != \"nt\" in /usr/local/lib/python3.6/dist-packages (from terminado>=0.3.3; sys_platform != \"win32\"->notebook->jupyter<2.0.0,>=1.0.0->chartify) (0.6.0)\n",
            "Requirement already satisfied: webencodings in /usr/local/lib/python3.6/dist-packages (from bleach->nbconvert->jupyter<2.0.0,>=1.0.0->chartify) (0.5.1)\n",
            "Requirement already satisfied: wcwidth in /usr/local/lib/python3.6/dist-packages (from prompt-toolkit<2.0.0,>=1.0.0->jupyter-console->jupyter<2.0.0,>=1.0.0->chartify) (0.1.7)\n",
            "Installing collected packages: colour, selenium, chartify\n",
            "Successfully installed chartify-2.6.1 colour-0.1.5 selenium-3.8.0\n"
          ],
          "name": "stdout"
        }
      ]
    },
    {
      "cell_type": "code",
      "metadata": {
        "id": "jtydwkm6Z0al",
        "colab_type": "code",
        "colab": {}
      },
      "source": [
        "# Copyright (c) 2017-2018 Spotify AB\n",
        "#\n",
        "# Licensed under the Apache License, Version 2.0 (the \"License\");\n",
        "# you may not use this file except in compliance with the License.\n",
        "# You may obtain a copy of the License at\n",
        "#\n",
        "# http://www.apache.org/licenses/LICENSE-2.0\n",
        "#\n",
        "# Unless required by applicable law or agreed to in writing, software\n",
        "# distributed under the License is distributed on an \"AS IS\" BASIS,\n",
        "# WITHOUT WARRANTIES OR CONDITIONS OF ANY KIND, either express or implied.\n",
        "# See the License for the specific language governing permissions and\n",
        "# limitations under the License.\n",
        "import chartify\n",
        "import pandas as pd\n",
        "\n",
        "# needed to make the examples work in the notebook\n",
        "chartify.examples._OUTPUT_FORMAT = 'html'"
      ],
      "execution_count": 0,
      "outputs": []
    },
    {
      "cell_type": "markdown",
      "metadata": {
        "id": "0XdK0ysRZ0ao",
        "colab_type": "text"
      },
      "source": [
        "# Chart object\n",
        "- Run the cell below to instantiate a chart and assign to to a variable"
      ]
    },
    {
      "cell_type": "code",
      "metadata": {
        "id": "zxt3QTs9Z0ap",
        "colab_type": "code",
        "colab": {}
      },
      "source": [
        "ch = chartify.Chart()"
      ],
      "execution_count": 0,
      "outputs": []
    },
    {
      "cell_type": "markdown",
      "metadata": {
        "id": "bFQd_zg0Z0ar",
        "colab_type": "text"
      },
      "source": [
        "- Use .show() to render the chart."
      ]
    },
    {
      "cell_type": "code",
      "metadata": {
        "id": "J-yGpVRCZ0as",
        "colab_type": "code",
        "colab": {}
      },
      "source": [
        "ch.show()"
      ],
      "execution_count": 0,
      "outputs": []
    },
    {
      "cell_type": "markdown",
      "metadata": {
        "id": "GjJo3-5fZ0aw",
        "colab_type": "text"
      },
      "source": [
        "- Note that the chart is blank at this point.\n",
        "- The default labels provide directions for how to override their values."
      ]
    },
    {
      "cell_type": "markdown",
      "metadata": {
        "id": "4b2_OacrZ0ax",
        "colab_type": "text"
      },
      "source": [
        "# Adding chart labels\n",
        "- __Your turn__: Add labels to the following chart. Look at the default values for instruction.\n",
        "- Title\n",
        "- Subtitle\n",
        "- Source\n",
        "- X label\n",
        "- Y label"
      ]
    },
    {
      "cell_type": "code",
      "metadata": {
        "id": "YkUPFpsBZ0ay",
        "colab_type": "code",
        "colab": {}
      },
      "source": [
        "ch = chartify.Chart()\n",
        "# Add code here to overwrite the labels\n",
        "\n",
        "\n",
        "ch.show()"
      ],
      "execution_count": 0,
      "outputs": []
    },
    {
      "cell_type": "markdown",
      "metadata": {
        "id": "OCy1p7OrZ0a1",
        "colab_type": "text"
      },
      "source": [
        "# Getting help\n",
        "- From within a jupyter notebook you can see the available attributes of the chart object by pressing \"tab\"\n",
        "- Select the space just after the \".\" character below and hit tab."
      ]
    },
    {
      "cell_type": "code",
      "metadata": {
        "id": "lx1swBlOZ0a2",
        "colab_type": "code",
        "colab": {}
      },
      "source": [
        "ch = chartify.Chart()\n",
        "ch."
      ],
      "execution_count": 0,
      "outputs": []
    },
    {
      "cell_type": "markdown",
      "metadata": {
        "id": "FiDd1vPHZ0a5",
        "colab_type": "text"
      },
      "source": [
        "- You can also use \"?\" to pull up documentation for objects and methods.\n",
        "- Run the cell below to pull up the chartify.Chart documentation"
      ]
    },
    {
      "cell_type": "code",
      "metadata": {
        "id": "aeKCw4heZ0a6",
        "colab_type": "code",
        "colab": {}
      },
      "source": [
        "chartify.Chart?"
      ],
      "execution_count": 0,
      "outputs": []
    },
    {
      "cell_type": "markdown",
      "metadata": {
        "id": "pB7tvhcIZ0a-",
        "colab_type": "text"
      },
      "source": [
        "- This can also be accomplished by pressing \"shift + tab\".\n",
        "- Press \"shift + tab\" twice to see the expanded documentation.\n",
        "- Try it with the next cell."
      ]
    },
    {
      "cell_type": "code",
      "metadata": {
        "id": "Hc_xVdgXZ0bB",
        "colab_type": "code",
        "colab": {}
      },
      "source": [
        "chartify.Chart"
      ],
      "execution_count": 0,
      "outputs": []
    },
    {
      "cell_type": "markdown",
      "metadata": {
        "id": "q9XCzpQRZ0bH",
        "colab_type": "text"
      },
      "source": [
        "# Callouts\n",
        "- The chart object has a callout object (ch.callout) that contains methods for adding callouts to the chart.\n",
        "- Callouts can be used to add text, lines, or shaded areas to annotate parts of your chart.\n",
        "- __Your Turn:__ Fill in the code below to add a text callout that says \"hi\" at coordinate (10, 10)\n",
        "- Look up the documentation for ch.callout.text if you need help"
      ]
    },
    {
      "cell_type": "code",
      "metadata": {
        "id": "_G45PeU8Z0bI",
        "colab_type": "code",
        "colab": {}
      },
      "source": [
        "ch = chartify.Chart()\n",
        "#ch.callout.text()\n",
        "    \n",
        "ch.show()"
      ],
      "execution_count": 0,
      "outputs": []
    },
    {
      "cell_type": "markdown",
      "metadata": {
        "id": "1nRH0lcMZ0bL",
        "colab_type": "text"
      },
      "source": [
        "- Use tab below to see what callouts are available."
      ]
    },
    {
      "cell_type": "code",
      "metadata": {
        "id": "C0gy1LszZ0bM",
        "colab_type": "code",
        "colab": {}
      },
      "source": [
        "ch.callout."
      ],
      "execution_count": 0,
      "outputs": []
    },
    {
      "cell_type": "markdown",
      "metadata": {
        "id": "SKrADg1CZ0bO",
        "colab_type": "text"
      },
      "source": [
        "# Axes\n",
        "- The axes object contains methods for setting or getting axis properties."
      ]
    },
    {
      "cell_type": "markdown",
      "metadata": {
        "id": "_Q_9HsyFZ0bP",
        "colab_type": "text"
      },
      "source": [
        "- __Your turn__: modify the chart below so the xaxis range goes from 0 to 100"
      ]
    },
    {
      "cell_type": "code",
      "metadata": {
        "id": "sxv8owYdZ0bQ",
        "colab_type": "code",
        "colab": {}
      },
      "source": [
        "ch = chartify.Chart()\n",
        "ch.callout.text('hi', 10, 10)\n",
        "# Add code here to modify the xrange to (0, 100)\n",
        "ch.show()"
      ],
      "execution_count": 0,
      "outputs": []
    },
    {
      "cell_type": "markdown",
      "metadata": {
        "id": "KijpsLI_Z0bS",
        "colab_type": "text"
      },
      "source": [
        "# Method chaining\n",
        "- Chart methods can be chained by wrapping the statments in parentheses. See the example below:"
      ]
    },
    {
      "cell_type": "code",
      "metadata": {
        "id": "9H9zgtrYZ0bT",
        "colab_type": "code",
        "colab": {}
      },
      "source": [
        "(chartify.Chart(blank_labels=True)\n",
        " .callout.text('hi', 10, 10)\n",
        " .axes.set_xaxis_range(0, 100)\n",
        " .show()\n",
        ")"
      ],
      "execution_count": 0,
      "outputs": []
    },
    {
      "cell_type": "markdown",
      "metadata": {
        "id": "Ub_B2iuGZ0bX",
        "colab_type": "text"
      },
      "source": [
        "# Plotting"
      ]
    },
    {
      "cell_type": "markdown",
      "metadata": {
        "id": "PJr3jo4jZ0bY",
        "colab_type": "text"
      },
      "source": [
        "## Input data format\n",
        "Chartify expects the input data to be:\n",
        "- Tidy (Each variable has its own column, each row corresponds to an observation)\n",
        "- In the columns of a Pandas DataFrame.\n",
        "\n",
        "Below we'll explore some examples of valid and invalid input data"
      ]
    },
    {
      "cell_type": "markdown",
      "metadata": {
        "id": "qVHhvARvZ0bY",
        "colab_type": "text"
      },
      "source": [
        "- Run this cell to generate an example dataset"
      ]
    },
    {
      "cell_type": "code",
      "metadata": {
        "id": "FWj-dorZZ0ba",
        "colab_type": "code",
        "colab": {}
      },
      "source": [
        "data = chartify.examples.example_data()\n",
        "data.head()"
      ],
      "execution_count": 0,
      "outputs": []
    },
    {
      "cell_type": "markdown",
      "metadata": {
        "id": "IJuO_A6JZ0bd",
        "colab_type": "text"
      },
      "source": [
        "## Pivoted data: INVALID\n",
        "- Pivoted data is not Tidy (note the `country` dimension has an observation in each column)"
      ]
    },
    {
      "cell_type": "code",
      "metadata": {
        "id": "0ZDERY1IZ0be",
        "colab_type": "code",
        "colab": {}
      },
      "source": [
        "pivoted_data = pd.pivot_table(data, columns='country', values='quantity', index='fruit', aggfunc='sum')\n",
        "pivoted_data"
      ],
      "execution_count": 0,
      "outputs": []
    },
    {
      "cell_type": "markdown",
      "metadata": {
        "id": "H90ZjlQGZ0bk",
        "colab_type": "text"
      },
      "source": [
        "### Melting pivoted data: VALID\n",
        "- You can use pandas.melt to convert pivoted data into the tidy data format.\n",
        "- The output of SQL queries with `groupby` produces output in tidy format."
      ]
    },
    {
      "cell_type": "code",
      "metadata": {
        "id": "KjnJ2nCGZ0bl",
        "colab_type": "code",
        "colab": {}
      },
      "source": [
        "value_columns = pivoted_data.columns\n",
        "\n",
        "melted_data = pd.melt(pivoted_data.reset_index(), # Need to reset the index to put \"fruit\" into a column.\n",
        "                      id_vars='fruit',\n",
        "                      value_vars=value_columns)\n",
        "melted_data.head()"
      ],
      "execution_count": 0,
      "outputs": []
    },
    {
      "cell_type": "markdown",
      "metadata": {
        "id": "YrKCx0PvZ0br",
        "colab_type": "text"
      },
      "source": [
        "## Pandas series: INVALID\n",
        "- Data in a pandas Series must be converted to a DataFrame for use with Chartify."
      ]
    },
    {
      "cell_type": "code",
      "metadata": {
        "id": "M-s6mT1nZ0bs",
        "colab_type": "code",
        "colab": {}
      },
      "source": [
        "data.groupby(['country'])['quantity'].sum()"
      ],
      "execution_count": 0,
      "outputs": []
    },
    {
      "cell_type": "markdown",
      "metadata": {
        "id": "EdhA0beAZ0b0",
        "colab_type": "text"
      },
      "source": [
        "## Pandas index: INVALID\n",
        "- The output below is a pandas DataFrame, but the country dimension is in the Index."
      ]
    },
    {
      "cell_type": "code",
      "metadata": {
        "id": "hIu2pIRFZ0b3",
        "colab_type": "code",
        "colab": {}
      },
      "source": [
        "data.groupby(['country'])[['quantity']].sum()"
      ],
      "execution_count": 0,
      "outputs": []
    },
    {
      "cell_type": "markdown",
      "metadata": {
        "id": "Rqf-6PfFZ0b6",
        "colab_type": "text"
      },
      "source": [
        "## Pandas DataFrame: VALID\n",
        "- The code below produces a valid pandas DataFrame for use with Chartify.\n",
        "- Notice how the country dimension is now in a column."
      ]
    },
    {
      "cell_type": "code",
      "metadata": {
        "id": "o6zoe2k2Z0b7",
        "colab_type": "code",
        "colab": {}
      },
      "source": [
        "chart_data = data.groupby(['country'])['quantity'].sum().reset_index()\n",
        "chart_data"
      ],
      "execution_count": 0,
      "outputs": []
    },
    {
      "cell_type": "markdown",
      "metadata": {
        "id": "GIQnB5H0Z0b-",
        "colab_type": "text"
      },
      "source": [
        "# Axis types\n",
        "- Specify the x_axis_type and y_axis_type parameters when instantiating the chart object.\n",
        "- Both are set to `linear` by default.\n",
        "- Look at the chart object documentation to see the list of available options for x_axis_type and y_axis_type"
      ]
    },
    {
      "cell_type": "code",
      "metadata": {
        "id": "DAGhP9U0Z0b-",
        "colab_type": "code",
        "colab": {}
      },
      "source": [
        "chartify.Chart?"
      ],
      "execution_count": 0,
      "outputs": []
    },
    {
      "cell_type": "markdown",
      "metadata": {
        "id": "7Ys9oOiTZ0cA",
        "colab_type": "text"
      },
      "source": [
        "- __The Chart axis types influence the plots that are available__\n",
        "- Look at how the plot methods change based on the axis types:"
      ]
    },
    {
      "cell_type": "code",
      "metadata": {
        "id": "PX4KmoSqZ0cA",
        "colab_type": "code",
        "colab": {}
      },
      "source": [
        "ch = chartify.Chart(x_axis_type='datetime',\n",
        "                    y_axis_type='linear')"
      ],
      "execution_count": 0,
      "outputs": []
    },
    {
      "cell_type": "markdown",
      "metadata": {
        "id": "OOjqYX-gZ0cC",
        "colab_type": "text"
      },
      "source": [
        "When you've executed the cell above, the tab complete below will change"
      ]
    },
    {
      "cell_type": "code",
      "metadata": {
        "id": "bAmGL2NBZ0cD",
        "colab_type": "code",
        "colab": {}
      },
      "source": [
        "ch.plot."
      ],
      "execution_count": 0,
      "outputs": []
    },
    {
      "cell_type": "code",
      "metadata": {
        "id": "prY5XAJyZ0cG",
        "colab_type": "code",
        "colab": {}
      },
      "source": [
        "ch = chartify.Chart(x_axis_type='categorical',\n",
        "                    y_axis_type='linear')"
      ],
      "execution_count": 0,
      "outputs": []
    },
    {
      "cell_type": "markdown",
      "metadata": {
        "id": "RmbxIAmYZ0cI",
        "colab_type": "text"
      },
      "source": [
        "And again"
      ]
    },
    {
      "cell_type": "code",
      "metadata": {
        "id": "7HfHeBrwZ0cI",
        "colab_type": "code",
        "colab": {}
      },
      "source": [
        "ch.plot."
      ],
      "execution_count": 0,
      "outputs": []
    },
    {
      "cell_type": "markdown",
      "metadata": {
        "id": "Vl5Lrb-sZ0cL",
        "colab_type": "text"
      },
      "source": [
        "- __Your turn__: Create a chart with 'density' y and 'linear' x axis types. What type of plots are available?"
      ]
    },
    {
      "cell_type": "code",
      "metadata": {
        "id": "dkSZn7ClZ0cM",
        "colab_type": "code",
        "colab": {}
      },
      "source": [
        "ch = chartify.Chart(# Your code goes here)"
      ],
      "execution_count": 0,
      "outputs": []
    },
    {
      "cell_type": "markdown",
      "metadata": {
        "id": "HGLOAzRtZ0cO",
        "colab_type": "text"
      },
      "source": [
        "# Vertical Bar plot\n",
        "- __Your turn__: Create a bar plot based on the dataframe below."
      ]
    },
    {
      "cell_type": "code",
      "metadata": {
        "id": "E1vGCngyZ0cP",
        "colab_type": "code",
        "colab": {}
      },
      "source": [
        "bar_data = (data.groupby('country')[['quantity']].sum()\n",
        "            .reset_index()\n",
        "           )\n",
        "bar_data"
      ],
      "execution_count": 0,
      "outputs": []
    },
    {
      "cell_type": "code",
      "metadata": {
        "id": "AmDNwpxOZ0cR",
        "colab_type": "code",
        "colab": {}
      },
      "source": [
        "# Implement the bar plot here.\n",
        "# Set the appropriate x_axis_type otherwise the bar method won't be available.\n",
        "# Look at the bar documentation to figure out how to pass in the parameters.\n",
        "# If you get stuck move on to the next section for hints.\n",
        "ch = chartify.Chart(# Your code goes here)\n"
      ],
      "execution_count": 0,
      "outputs": []
    },
    {
      "cell_type": "markdown",
      "metadata": {
        "id": "tbfcSistZ0cU",
        "colab_type": "text"
      },
      "source": [
        "# Examples\n",
        "- Chartify includes many examples. They're a good starting point if you're trying to create a chart that you're unfamiliar with."
      ]
    },
    {
      "cell_type": "code",
      "metadata": {
        "id": "P5X9vjteZ0cV",
        "colab_type": "code",
        "colab": {}
      },
      "source": [
        "chartify.examples."
      ],
      "execution_count": 0,
      "outputs": []
    },
    {
      "cell_type": "markdown",
      "metadata": {
        "id": "FE44ouJ9Z0cX",
        "colab_type": "text"
      },
      "source": [
        "- Run the appropriate method to see examples and the corresponding code that generates the example."
      ]
    },
    {
      "cell_type": "code",
      "metadata": {
        "scrolled": false,
        "id": "7wVsbTK6Z0cY",
        "colab_type": "code",
        "colab": {}
      },
      "source": [
        "chartify.examples.plot_bar()"
      ],
      "execution_count": 0,
      "outputs": []
    },
    {
      "cell_type": "markdown",
      "metadata": {
        "id": "lCt5g-GxZ0cb",
        "colab_type": "text"
      },
      "source": [
        "# Bar plot - Horizontal vs. Vertical\n",
        "- Copy your bar plot here, but make it horizantal instead of vertical. Look to the example above if you get stuck."
      ]
    },
    {
      "cell_type": "code",
      "metadata": {
        "id": "iDbNwP3lZ0cc",
        "colab_type": "code",
        "colab": {}
      },
      "source": [
        ""
      ],
      "execution_count": 0,
      "outputs": []
    },
    {
      "cell_type": "markdown",
      "metadata": {
        "id": "NJKLG50xZ0ce",
        "colab_type": "text"
      },
      "source": [
        "# Grouped bar plot\n",
        "- __Your Turn__: Create a grouped bar plot with the data below."
      ]
    },
    {
      "cell_type": "code",
      "metadata": {
        "id": "0pKwSpKoZ0cf",
        "colab_type": "code",
        "colab": {}
      },
      "source": [
        "grouped_bar_data = (data.groupby(['country', 'fruit'])[['quantity']].sum()\n",
        "            .reset_index()\n",
        "           )\n",
        "grouped_bar_data"
      ],
      "execution_count": 0,
      "outputs": []
    },
    {
      "cell_type": "code",
      "metadata": {
        "id": "k_K7bMi1Z0ch",
        "colab_type": "code",
        "colab": {}
      },
      "source": [
        "# Implement the grouped bar plot here.\n",
        "# Look at the example for help if you get stuck.\n"
      ],
      "execution_count": 0,
      "outputs": []
    },
    {
      "cell_type": "markdown",
      "metadata": {
        "id": "CuVwfV7sZ0cj",
        "colab_type": "text"
      },
      "source": [
        "# Color palette types\n",
        "- Chartify includes 4 different color palette types: `categorical`, `accent`, `sequential`, `diverging`.\n",
        "- Note the differences in the examples below"
      ]
    },
    {
      "cell_type": "code",
      "metadata": {
        "id": "slOfGhTgZ0ck",
        "colab_type": "code",
        "colab": {}
      },
      "source": [
        "\n",
        "chartify.examples.style_color_palette_categorical()"
      ],
      "execution_count": 0,
      "outputs": []
    },
    {
      "cell_type": "code",
      "metadata": {
        "id": "lpkqhtWHZ0cp",
        "colab_type": "code",
        "colab": {}
      },
      "source": [
        "chartify.examples.style_color_palette_accent()"
      ],
      "execution_count": 0,
      "outputs": []
    },
    {
      "cell_type": "code",
      "metadata": {
        "id": "YU61XMPyZ0cu",
        "colab_type": "code",
        "colab": {}
      },
      "source": [
        "chartify.examples.style_color_palette_diverging()"
      ],
      "execution_count": 0,
      "outputs": []
    },
    {
      "cell_type": "code",
      "metadata": {
        "id": "EnQHgFh2Z0cx",
        "colab_type": "code",
        "colab": {}
      },
      "source": [
        "chartify.examples.style_color_palette_sequential()"
      ],
      "execution_count": 0,
      "outputs": []
    },
    {
      "cell_type": "markdown",
      "metadata": {
        "id": "8lBvY5oxZ0cy",
        "colab_type": "text"
      },
      "source": [
        "# Color palettes\n",
        "- Chartify includes a set of pre-defined color palettes:"
      ]
    },
    {
      "cell_type": "code",
      "metadata": {
        "id": "LfrgTVJOZ0cz",
        "colab_type": "code",
        "colab": {}
      },
      "source": [
        "chartify.color_palettes"
      ],
      "execution_count": 0,
      "outputs": []
    },
    {
      "cell_type": "markdown",
      "metadata": {
        "id": "qHlj7L0MZ0c1",
        "colab_type": "text"
      },
      "source": [
        "- Use .show() to see the colors associated with each:"
      ]
    },
    {
      "cell_type": "code",
      "metadata": {
        "id": "RaULTM8lZ0c1",
        "colab_type": "code",
        "colab": {}
      },
      "source": [
        "chartify.color_palettes.show()"
      ],
      "execution_count": 0,
      "outputs": []
    },
    {
      "cell_type": "markdown",
      "metadata": {
        "id": "6BXyWMKhZ0c3",
        "colab_type": "text"
      },
      "source": [
        "- Assign the color palettes with `.set_color_palette`"
      ]
    },
    {
      "cell_type": "code",
      "metadata": {
        "id": "AGM7KG4CZ0c3",
        "colab_type": "code",
        "colab": {}
      },
      "source": [
        "ch = chartify.Chart(x_axis_type='categorical',\n",
        "                    blank_labels=True)\n",
        "ch.style.set_color_palette('categorical', 'Dark2')\n",
        "ch.plot.bar(data_frame=grouped_bar_data,\n",
        "            categorical_columns=['fruit', 'country'],\n",
        "            numeric_column='quantity',\n",
        "            color_column='fruit')\n",
        "ch.show()"
      ],
      "execution_count": 0,
      "outputs": []
    },
    {
      "cell_type": "markdown",
      "metadata": {
        "id": "OhiFUPJzZ0c5",
        "colab_type": "text"
      },
      "source": [
        "- Color palette objects include methods for manipulation. See the examples below:"
      ]
    },
    {
      "cell_type": "code",
      "metadata": {
        "id": "JSX-jSUBZ0c7",
        "colab_type": "code",
        "colab": {}
      },
      "source": [
        "dark2 = chartify.color_palettes['Dark2']\n",
        "dark2.show()"
      ],
      "execution_count": 0,
      "outputs": []
    },
    {
      "cell_type": "markdown",
      "metadata": {
        "id": "fZFlQepdZ0c9",
        "colab_type": "text"
      },
      "source": [
        "- Sort"
      ]
    },
    {
      "cell_type": "code",
      "metadata": {
        "id": "-Vo7hImIZ0c-",
        "colab_type": "code",
        "colab": {}
      },
      "source": [
        "sorted_dark2 = dark2.sort_by_hue()\n",
        "sorted_dark2.show()"
      ],
      "execution_count": 0,
      "outputs": []
    },
    {
      "cell_type": "markdown",
      "metadata": {
        "id": "gH4OgUxaZ0dE",
        "colab_type": "text"
      },
      "source": [
        "- Expand"
      ]
    },
    {
      "cell_type": "code",
      "metadata": {
        "id": "LlO9L0GWZ0dF",
        "colab_type": "code",
        "colab": {}
      },
      "source": [
        "dark2.expand_palette(20).show()"
      ],
      "execution_count": 0,
      "outputs": []
    },
    {
      "cell_type": "markdown",
      "metadata": {
        "id": "anRR5bevZ0dI",
        "colab_type": "text"
      },
      "source": [
        "- Shift"
      ]
    },
    {
      "cell_type": "code",
      "metadata": {
        "id": "8pt7BvrrZ0dJ",
        "colab_type": "code",
        "colab": {}
      },
      "source": [
        "shifted_dark2 = dark2.shift_palette('white', percent=20)\n",
        "shifted_dark2.show()"
      ],
      "execution_count": 0,
      "outputs": []
    },
    {
      "cell_type": "markdown",
      "metadata": {
        "id": "hsuTErTSZ0dM",
        "colab_type": "text"
      },
      "source": [
        "- Assign the shifted color palette to a chart:"
      ]
    },
    {
      "cell_type": "code",
      "metadata": {
        "id": "RPATijafZ0dN",
        "colab_type": "code",
        "colab": {}
      },
      "source": [
        "ch = chartify.Chart(x_axis_type='categorical',\n",
        "                    blank_labels=True)\n",
        "ch.style.set_color_palette('categorical', shifted_dark2)\n",
        "ch.plot.bar(data_frame=grouped_bar_data,\n",
        "            categorical_columns=['fruit', 'country'],\n",
        "            numeric_column='quantity',\n",
        "            color_column='fruit')\n",
        "ch.show()"
      ],
      "execution_count": 0,
      "outputs": []
    },
    {
      "cell_type": "markdown",
      "metadata": {
        "id": "5zx2uv5CZ0dP",
        "colab_type": "text"
      },
      "source": [
        "# Layouts\n",
        "- Chartify layouts are tailored toward use in slides.\n",
        "- Notice how the output changes for each of the slide layout options below:"
      ]
    },
    {
      "cell_type": "code",
      "metadata": {
        "scrolled": false,
        "id": "9-E55feQZ0dR",
        "colab_type": "code",
        "colab": {}
      },
      "source": [
        "layout_options = ['slide_100%', 'slide_75%', 'slide_50%', 'slide_25%']\n",
        "for option in layout_options:\n",
        "    ch = chartify.Chart(layout=option, blank_labels=True, x_axis_type='categorical')\n",
        "    ch.set_title('Layout: {}'.format(option))\n",
        "    ch.plot.bar(data_frame=grouped_bar_data,\n",
        "            categorical_columns=['fruit', 'country'],\n",
        "            numeric_column='quantity',\n",
        "            color_column='fruit')\n",
        "\n",
        "    ch.show()"
      ],
      "execution_count": 0,
      "outputs": []
    },
    {
      "cell_type": "markdown",
      "metadata": {
        "id": "p7EdK32aZ0dS",
        "colab_type": "text"
      },
      "source": [
        "# Advanced usage with Bokeh\n",
        "- Chartify is built on top of another visualization package called [Bokeh](http://bokeh.pydata.org/en/latest/)\n",
        "- The example below shows how you can access the Bokeh [figure](https://bokeh.pydata.org/en/latest/docs/reference/plotting.html#bokeh.plotting.figure.Figure) from a Chartify chart object."
      ]
    },
    {
      "cell_type": "code",
      "metadata": {
        "id": "gcvE5FqZZ0dS",
        "colab_type": "code",
        "colab": {}
      },
      "source": [
        "ch = chartify.Chart(blank_labels=True, x_axis_type='categorical')\n",
        "ch.plot.bar(data_frame=grouped_bar_data,\n",
        "        categorical_columns=['fruit', 'country'],\n",
        "        numeric_column='quantity',\n",
        "        color_column='fruit')\n",
        "ch.figure"
      ],
      "execution_count": 0,
      "outputs": []
    },
    {
      "cell_type": "markdown",
      "metadata": {
        "id": "Cz_c8Em0Z0dU",
        "colab_type": "text"
      },
      "source": [
        "- The following example shows how you can modify attributes not exposed in Chartify by accessing the Bokeh figure. See [Bokeh](http://bokeh.pydata.org/en/latest/) documentation for more details."
      ]
    },
    {
      "cell_type": "code",
      "metadata": {
        "id": "Dvp7SRTZZ0dV",
        "colab_type": "code",
        "colab": {}
      },
      "source": [
        "ch.figure.xaxis.axis_label_text_font_size = '30pt'\n",
        "ch.figure.xaxis.axis_label_text_color = 'red'\n",
        "ch.figure.height = 400\n",
        "ch.axes.set_xaxis_label('A large xaxis label')\n",
        "ch.show()"
      ],
      "execution_count": 0,
      "outputs": []
    }
  ]
}