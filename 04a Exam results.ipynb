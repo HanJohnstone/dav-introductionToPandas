{
  "nbformat": 4,
  "nbformat_minor": 0,
  "metadata": {
    "celltoolbar": "Slideshow",
    "kernelspec": {
      "display_name": "Python 3",
      "language": "python",
      "name": "python3"
    },
    "language_info": {
      "codemirror_mode": {
        "name": "ipython",
        "version": 3
      },
      "file_extension": ".py",
      "mimetype": "text/x-python",
      "name": "python",
      "nbconvert_exporter": "python",
      "pygments_lexer": "ipython3",
      "version": "3.6.6"
    },
    "colab": {
      "name": "04a Exam results.ipynb",
      "provenance": []
    }
  },
  "cells": [
    {
      "cell_type": "code",
      "metadata": {
        "id": "xDHfAp43am1p",
        "colab_type": "code",
        "colab": {
          "base_uri": "https://localhost:8080/",
          "height": 180
        },
        "outputId": "ea8d2c4c-8e71-44aa-e48c-d703f932082b"
      },
      "source": [
        "!pip install names"
      ],
      "execution_count": 2,
      "outputs": [
        {
          "output_type": "stream",
          "text": [
            "Collecting names\n",
            "\u001b[?25l  Downloading https://files.pythonhosted.org/packages/44/4e/f9cb7ef2df0250f4ba3334fbdabaa94f9c88097089763d8e85ada8092f84/names-0.3.0.tar.gz (789kB)\n",
            "\u001b[K     |████████████████████████████████| 798kB 9.5MB/s \n",
            "\u001b[?25hBuilding wheels for collected packages: names\n",
            "  Building wheel for names (setup.py) ... \u001b[?25l\u001b[?25hdone\n",
            "  Created wheel for names: filename=names-0.3.0-cp36-none-any.whl size=803688 sha256=2a18d9e11ad025a8cbca453413c364018f40f2fbef8f96f14c8fce3883e71d3b\n",
            "  Stored in directory: /root/.cache/pip/wheels/f9/a5/e1/be3e0aaa6fa285575078fa2aafd9959b45bdbc8de8a6803aeb\n",
            "Successfully built names\n",
            "Installing collected packages: names\n",
            "Successfully installed names-0.3.0\n"
          ],
          "name": "stdout"
        }
      ]
    },
    {
      "cell_type": "code",
      "metadata": {
        "id": "V6ZiSHNAagTJ",
        "colab_type": "code",
        "colab": {}
      },
      "source": [
        "import numpy as np\n",
        "import pandas as pd\n",
        "import names"
      ],
      "execution_count": 0,
      "outputs": []
    },
    {
      "cell_type": "markdown",
      "metadata": {
        "id": "9U6hVwNuagTO",
        "colab_type": "text"
      },
      "source": [
        "# Fake exam results"
      ]
    },
    {
      "cell_type": "markdown",
      "metadata": {
        "id": "2VH2c87qagTP",
        "colab_type": "text"
      },
      "source": [
        "Generate some random names"
      ]
    },
    {
      "cell_type": "code",
      "metadata": {
        "id": "PPXcGChIagTR",
        "colab_type": "code",
        "colab": {
          "base_uri": "https://localhost:8080/",
          "height": 33
        },
        "outputId": "55b7feb0-de1f-43a7-c271-2cd9d7a2d542"
      },
      "source": [
        "names.get_full_name()"
      ],
      "execution_count": 4,
      "outputs": [
        {
          "output_type": "execute_result",
          "data": {
            "text/plain": [
              "'Mary Oakden'"
            ]
          },
          "metadata": {
            "tags": []
          },
          "execution_count": 4
        }
      ]
    },
    {
      "cell_type": "code",
      "metadata": {
        "id": "EBqEHLN5agTV",
        "colab_type": "code",
        "colab": {
          "base_uri": "https://localhost:8080/",
          "height": 98
        },
        "outputId": "4904bd76-ed74-4039-c495-ef99acbc2e71"
      },
      "source": [
        "[names.get_full_name() for _ in range(5)]"
      ],
      "execution_count": 5,
      "outputs": [
        {
          "output_type": "execute_result",
          "data": {
            "text/plain": [
              "['Jana Bryan',\n",
              " 'Jerry Davis',\n",
              " 'Sonja Shearer',\n",
              " 'Ashley Collins',\n",
              " 'Marion Paxton']"
            ]
          },
          "metadata": {
            "tags": []
          },
          "execution_count": 5
        }
      ]
    },
    {
      "cell_type": "markdown",
      "metadata": {
        "id": "KmdBFDsOagTY",
        "colab_type": "text"
      },
      "source": [
        "Make some (convincing) random numbers"
      ]
    },
    {
      "cell_type": "code",
      "metadata": {
        "id": "NDKF0u8OagTY",
        "colab_type": "code",
        "colab": {}
      },
      "source": [
        "np.random.normal(loc=50, scale=10)"
      ],
      "execution_count": 0,
      "outputs": []
    },
    {
      "cell_type": "code",
      "metadata": {
        "id": "iL7D_9NtagTb",
        "colab_type": "code",
        "colab": {}
      },
      "source": [
        "np.random.normal(loc=50, scale=10)"
      ],
      "execution_count": 0,
      "outputs": []
    },
    {
      "cell_type": "code",
      "metadata": {
        "id": "D1Gbl2mnagTe",
        "colab_type": "code",
        "colab": {}
      },
      "source": [
        "[np.random.normal(loc=50, scale=10) for _ in range(5)]"
      ],
      "execution_count": 0,
      "outputs": []
    },
    {
      "cell_type": "code",
      "metadata": {
        "id": "IUTj1K3IagTg",
        "colab_type": "code",
        "colab": {}
      },
      "source": [
        "[int(np.random.normal(loc=50, scale=10)) for _ in range(5)]"
      ],
      "execution_count": 0,
      "outputs": []
    },
    {
      "cell_type": "markdown",
      "metadata": {
        "id": "72gsHLspagTk",
        "colab_type": "text"
      },
      "source": [
        "Build a list of names, some maths exam results and some physics exam results"
      ]
    },
    {
      "cell_type": "code",
      "metadata": {
        "id": "OdaZ2oYTagTl",
        "colab_type": "code",
        "colab": {}
      },
      "source": [
        "n = 20\n",
        "student = [names.get_full_name() for _ in range(n)]\n",
        "maths = [int(np.random.normal(loc=50, scale=10)) for _ in range(n)]\n",
        "physics = [m - int(np.random.normal(loc=5, scale=10)) for m in maths]\n",
        "\n",
        "results = pd.DataFrame(data={\n",
        "    \"Student\": student,\n",
        "    \"Maths\": maths,\n",
        "    \"Physics\": physics\n",
        "})\n",
        "results"
      ],
      "execution_count": 0,
      "outputs": []
    },
    {
      "cell_type": "markdown",
      "metadata": {
        "id": "NZtpCWT4agTq",
        "colab_type": "text"
      },
      "source": [
        "## Indexing with loc, iloc"
      ]
    },
    {
      "cell_type": "code",
      "metadata": {
        "id": "HDGOy6kVagTr",
        "colab_type": "code",
        "colab": {}
      },
      "source": [
        "results.loc[5]"
      ],
      "execution_count": 0,
      "outputs": []
    },
    {
      "cell_type": "code",
      "metadata": {
        "id": "_UTya9ZAagTv",
        "colab_type": "code",
        "colab": {}
      },
      "source": [
        "results.loc[5, \"Physics\"]"
      ],
      "execution_count": 0,
      "outputs": []
    },
    {
      "cell_type": "code",
      "metadata": {
        "id": "DewQHlfragTz",
        "colab_type": "code",
        "colab": {}
      },
      "source": [
        "results.iloc[0,0]"
      ],
      "execution_count": 0,
      "outputs": []
    },
    {
      "cell_type": "code",
      "metadata": {
        "id": "KyDMLQ8pagT2",
        "colab_type": "code",
        "colab": {}
      },
      "source": [
        "results.iloc[5, \"Maths\"]"
      ],
      "execution_count": 0,
      "outputs": []
    },
    {
      "cell_type": "code",
      "metadata": {
        "id": "sE-rS0xmagT4",
        "colab_type": "code",
        "colab": {}
      },
      "source": [
        "results.iloc[0:2,0:2]"
      ],
      "execution_count": 0,
      "outputs": []
    },
    {
      "cell_type": "code",
      "metadata": {
        "id": "CLPdtNYdagT6",
        "colab_type": "code",
        "colab": {}
      },
      "source": [
        "results.iloc[3:8]"
      ],
      "execution_count": 0,
      "outputs": []
    },
    {
      "cell_type": "code",
      "metadata": {
        "id": "Y56QVCuMagT8",
        "colab_type": "code",
        "colab": {}
      },
      "source": [
        "results.iloc[3:8,0:2]"
      ],
      "execution_count": 0,
      "outputs": []
    },
    {
      "cell_type": "markdown",
      "metadata": {
        "id": "XAuwGS_VagT-",
        "colab_type": "text"
      },
      "source": [
        "Set the obvious index"
      ]
    },
    {
      "cell_type": "code",
      "metadata": {
        "id": "I4Q4Js-HagUA",
        "colab_type": "code",
        "colab": {}
      },
      "source": [
        "resultsV2 = results.set_index(results.Student)\n",
        "resultsV2"
      ],
      "execution_count": 0,
      "outputs": []
    },
    {
      "cell_type": "markdown",
      "metadata": {
        "id": "tXpFCVs3agUD",
        "colab_type": "text"
      },
      "source": [
        "Drop the old column if you like"
      ]
    },
    {
      "cell_type": "code",
      "metadata": {
        "id": "mXIy1mLiagUD",
        "colab_type": "code",
        "colab": {}
      },
      "source": [
        "resultsV2.drop(columns=\"Student\")"
      ],
      "execution_count": 0,
      "outputs": []
    },
    {
      "cell_type": "code",
      "metadata": {
        "scrolled": false,
        "id": "IyfZ4rJmagUG",
        "colab_type": "code",
        "colab": {}
      },
      "source": [
        "resultsV2"
      ],
      "execution_count": 0,
      "outputs": []
    },
    {
      "cell_type": "code",
      "metadata": {
        "id": "SsYbdjKLagUK",
        "colab_type": "code",
        "colab": {}
      },
      "source": [
        "resultsV3 = resultsV2.drop(columns=\"Student\")\n",
        "resultsV3"
      ],
      "execution_count": 0,
      "outputs": []
    },
    {
      "cell_type": "markdown",
      "metadata": {
        "id": "F48CR-ZsagUR",
        "colab_type": "text"
      },
      "source": [
        "Locating by index"
      ]
    },
    {
      "cell_type": "code",
      "metadata": {
        "id": "OAweMEpzagUT",
        "colab_type": "code",
        "colab": {}
      },
      "source": [
        "resultsV3.loc[\"Alphonse Bolivar\"]"
      ],
      "execution_count": 0,
      "outputs": []
    },
    {
      "cell_type": "code",
      "metadata": {
        "id": "jKSoJKkvagUX",
        "colab_type": "code",
        "colab": {}
      },
      "source": [
        "resultsV3.loc[\"Alphonse Bolivar\":\"Will Ross\"].sort_values(by=\"Maths\")[\"Physics\"]"
      ],
      "execution_count": 0,
      "outputs": []
    },
    {
      "cell_type": "markdown",
      "metadata": {
        "id": "y_kewhWFagUa",
        "colab_type": "text"
      },
      "source": [
        "## The filter function with regex"
      ]
    },
    {
      "cell_type": "code",
      "metadata": {
        "id": "WyXrUNEOagUb",
        "colab_type": "code",
        "colab": {}
      },
      "source": [
        "resultsV3.filter(like='t')"
      ],
      "execution_count": 0,
      "outputs": []
    },
    {
      "cell_type": "code",
      "metadata": {
        "id": "emGksH4xagUe",
        "colab_type": "code",
        "colab": {}
      },
      "source": [
        "resultsV3.filter(regex='C.r', axis=0)"
      ],
      "execution_count": 0,
      "outputs": []
    },
    {
      "cell_type": "markdown",
      "metadata": {
        "id": "eyJmMpyYagUg",
        "colab_type": "text"
      },
      "source": [
        "## The query function"
      ]
    },
    {
      "cell_type": "code",
      "metadata": {
        "id": "OCbo2kIbagUh",
        "colab_type": "code",
        "colab": {}
      },
      "source": [
        "resultsV3.query(\"Student < 'D'\")"
      ],
      "execution_count": 0,
      "outputs": []
    },
    {
      "cell_type": "code",
      "metadata": {
        "id": "c7959fO1agUk",
        "colab_type": "code",
        "colab": {}
      },
      "source": [
        "resultsV3.query(\"Maths > Physics\")"
      ],
      "execution_count": 0,
      "outputs": []
    },
    {
      "cell_type": "code",
      "metadata": {
        "id": "XvOXtZyragUn",
        "colab_type": "code",
        "colab": {}
      },
      "source": [
        "resultsV3.index.str.split(\" \", expand=True)"
      ],
      "execution_count": 0,
      "outputs": []
    },
    {
      "cell_type": "code",
      "metadata": {
        "id": "Y-QIrNAwagUq",
        "colab_type": "code",
        "colab": {}
      },
      "source": [
        "resultsV4 = resultsV3.set_index(resultsV3.index.str.split(\" \", expand=True))\n",
        "resultsV4"
      ],
      "execution_count": 0,
      "outputs": []
    },
    {
      "cell_type": "code",
      "metadata": {
        "id": "K0tg3s0sagUs",
        "colab_type": "code",
        "colab": {}
      },
      "source": [
        "resultsV4.sort_index(level=1)"
      ],
      "execution_count": 0,
      "outputs": []
    },
    {
      "cell_type": "code",
      "metadata": {
        "id": "1hkJWoDtagUw",
        "colab_type": "code",
        "colab": {}
      },
      "source": [
        "resultsV4.sort_index(level=1)"
      ],
      "execution_count": 0,
      "outputs": []
    },
    {
      "cell_type": "code",
      "metadata": {
        "id": "hKNUli96agUz",
        "colab_type": "code",
        "colab": {}
      },
      "source": [
        "resultsV5 = resultsV4.sort_index(level=1)"
      ],
      "execution_count": 0,
      "outputs": []
    },
    {
      "cell_type": "code",
      "metadata": {
        "id": "pQd2J50GagU3",
        "colab_type": "code",
        "colab": {}
      },
      "source": [
        "resultsV5"
      ],
      "execution_count": 0,
      "outputs": []
    },
    {
      "cell_type": "code",
      "metadata": {
        "id": "t4SsDf0fagU5",
        "colab_type": "code",
        "colab": {}
      },
      "source": [
        "resultsV6 = resultsV5.swaplevel()\n",
        "resultsV6"
      ],
      "execution_count": 0,
      "outputs": []
    },
    {
      "cell_type": "code",
      "metadata": {
        "id": "SA-ie6pzagU8",
        "colab_type": "code",
        "colab": {}
      },
      "source": [
        "resultsV6.loc[\"P\":\"W\"]"
      ],
      "execution_count": 0,
      "outputs": []
    },
    {
      "cell_type": "code",
      "metadata": {
        "id": "pxBUgjADagU9",
        "colab_type": "code",
        "colab": {}
      },
      "source": [
        "resultsV6.sort_values(by=\"Maths\", ascending=False)[:3]"
      ],
      "execution_count": 0,
      "outputs": []
    },
    {
      "cell_type": "markdown",
      "metadata": {
        "id": "35vuSZlUagU_",
        "colab_type": "text"
      },
      "source": [
        "## The numpy where function"
      ]
    },
    {
      "cell_type": "code",
      "metadata": {
        "id": "NLoB_MmqagVB",
        "colab_type": "code",
        "colab": {}
      },
      "source": [
        "resultsV6[\"Best\"] = np.where(resultsV6.Maths > resultsV6.Physics, \"Maths\", \"Physics\")\n",
        "resultsV6"
      ],
      "execution_count": 0,
      "outputs": []
    },
    {
      "cell_type": "code",
      "metadata": {
        "id": "QpFmrck1agVH",
        "colab_type": "code",
        "colab": {}
      },
      "source": [
        "resultsV6[\"Combined\"] = resultsV6[\"Maths\"]+resultsV6[\"Physics\"]\n",
        "resultsV6.sort_values(by=\"Combined\", ascending=False)"
      ],
      "execution_count": 0,
      "outputs": []
    },
    {
      "cell_type": "markdown",
      "metadata": {
        "id": "TU_QxtcVagVK",
        "colab_type": "text"
      },
      "source": [
        "## Categorising data with cut"
      ]
    },
    {
      "cell_type": "code",
      "metadata": {
        "id": "UOgNnaHTagVM",
        "colab_type": "code",
        "colab": {}
      },
      "source": [
        "pd.cut(resultsV6.Combined, bins=[0,30,50,70,95,1000], labels=[\"Fail\",\"Third\",\"2:2\",\"2:1\",\"First\"])"
      ],
      "execution_count": 0,
      "outputs": []
    },
    {
      "cell_type": "code",
      "metadata": {
        "id": "llUpRtG2agVQ",
        "colab_type": "code",
        "colab": {}
      },
      "source": [
        "resultsV6[\"Class\"] = pd.cut(resultsV6.Combined, bins=[0,30,50,70,95,1000], labels=[\"Fail\",\"Third\",\"2:2\",\"2:1\",\"First\"])"
      ],
      "execution_count": 0,
      "outputs": []
    },
    {
      "cell_type": "code",
      "metadata": {
        "id": "5krKk_NtagVR",
        "colab_type": "code",
        "colab": {}
      },
      "source": [
        "resultsV6"
      ],
      "execution_count": 0,
      "outputs": []
    },
    {
      "cell_type": "code",
      "metadata": {
        "id": "Uv0MeFQjagVW",
        "colab_type": "code",
        "colab": {}
      },
      "source": [
        "import seaborn as sns"
      ],
      "execution_count": 0,
      "outputs": []
    },
    {
      "cell_type": "code",
      "metadata": {
        "id": "-Klj-x1fagVZ",
        "colab_type": "code",
        "colab": {}
      },
      "source": [
        "resultsV6.Class.cat.categories"
      ],
      "execution_count": 0,
      "outputs": []
    },
    {
      "cell_type": "code",
      "metadata": {
        "id": "faypV0NfagVh",
        "colab_type": "code",
        "colab": {}
      },
      "source": [
        "import seaborn as sns"
      ],
      "execution_count": 0,
      "outputs": []
    },
    {
      "cell_type": "code",
      "metadata": {
        "id": "bqP7Gq1yagVk",
        "colab_type": "code",
        "colab": {}
      },
      "source": [
        "sns.scatterplot(data=resultsV6, x=\"Maths\", y=\"Physics\", hue=\"Class\", style=\"Best\");"
      ],
      "execution_count": 0,
      "outputs": []
    },
    {
      "cell_type": "markdown",
      "metadata": {
        "id": "QUoOUrIKagVm",
        "colab_type": "text"
      },
      "source": [
        "## Adding labels in pyplot/seaborn"
      ]
    },
    {
      "cell_type": "code",
      "metadata": {
        "scrolled": true,
        "id": "uE8EWb6magVo",
        "colab_type": "code",
        "colab": {}
      },
      "source": [
        "ax = sns.scatterplot(data=resultsV6, x=\"Maths\", y=\"Physics\", hue=\"Class\", style=\"Best\")\n",
        "for surname in resultsV6.index:\n",
        "    ax.annotate(surname[1], (resultsV6.loc[surname, \"Maths\"], resultsV6.loc[surname, \"Physics\"]))"
      ],
      "execution_count": 0,
      "outputs": []
    },
    {
      "cell_type": "code",
      "metadata": {
        "scrolled": true,
        "id": "y24vrhkgagVs",
        "colab_type": "code",
        "colab": {}
      },
      "source": [
        "ax = sns.scatterplot(data=resultsV6, x=\"Maths\", y=\"Physics\", hue=\"Class\", style=\"Best\")\n",
        "for surname in resultsV6.index:\n",
        "    ax.text(resultsV6.loc[surname, \"Maths\"], resultsV6.loc[surname, \"Physics\"], surname[1])"
      ],
      "execution_count": 0,
      "outputs": []
    },
    {
      "cell_type": "code",
      "metadata": {
        "scrolled": true,
        "id": "grxXGsB-agVx",
        "colab_type": "code",
        "colab": {}
      },
      "source": [
        "ax = sns.scatterplot(data=resultsV6, x=\"Maths\", y=\"Physics\", hue=\"Class\", style=\"Best\")\n",
        "for fullname in resultsV6.index:\n",
        "    ax.text(resultsV6.loc[fullname, \"Maths\"], resultsV6.loc[fullname, \"Physics\"], fullname[1], rotation=30, va=\"center\")"
      ],
      "execution_count": 0,
      "outputs": []
    },
    {
      "cell_type": "code",
      "metadata": {
        "id": "WHK04Ld1agVz",
        "colab_type": "code",
        "colab": {}
      },
      "source": [
        "fg = sns.catplot(data=resultsV6, x=\"Class\", kind=\"count\")\n",
        "ax = fg.ax\n",
        "for x,bar in enumerate(ax.patches):\n",
        "    if(bar.get_height()>0):\n",
        "        ax.annotate(int(bar.get_height()),(x,bar.get_height()+0.35))"
      ],
      "execution_count": 0,
      "outputs": []
    }
  ]
}